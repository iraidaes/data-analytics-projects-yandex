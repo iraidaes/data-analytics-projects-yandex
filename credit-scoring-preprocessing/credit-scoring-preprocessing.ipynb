{
 "cells": [
  {
   "cell_type": "markdown",
   "metadata": {},
   "source": [
    "<span class=\"badge badge-info\">ПРЕДОБРАБОТКА ДАННЫХ</span>\n",
    "# Исследование надёжности заёмщиков"
   ]
  },
  {
   "cell_type": "markdown",
   "metadata": {},
   "source": [
    "Заказчик — кредитный отдел банка. Нужно разобраться, влияет ли семейное положение и количество детей клиента на факт погашения кредита в срок. Входные данные от банка — статистика о платёжеспособности клиентов.\n",
    "\n",
    "Результаты исследования будут учтены при построении модели **кредитного скоринга** — специальной системы, которая оценивает способность потенциального заёмщика вернуть кредит банку."
   ]
  },
  {
   "cell_type": "markdown",
   "metadata": {},
   "source": [
    "## Описание данных"
   ]
  },
  {
   "cell_type": "markdown",
   "metadata": {},
   "source": [
    " - children — количество детей в семье\n",
    " - days_employed — общий трудовой стаж в днях\n",
    " - dob_years — возраст клиента в годах\n",
    " - education — уровень образования клиента\n",
    " - education_id — идентификатор уровня образования\n",
    " - family_status — семейное положение\n",
    " - family_status_id — идентификатор семейного положения\n",
    " - gender — пол клиента\n",
    " - income_type — тип занятости\n",
    " - debt — имел ли задолженность по возврату кредитов\n",
    " - total_income — ежемесячный доход\n",
    " - purpose — цель получения кредита"
   ]
  },
  {
   "cell_type": "markdown",
   "metadata": {},
   "source": [
    "## Инструкция по выполнению проекта"
   ]
  },
  {
   "cell_type": "markdown",
   "metadata": {},
   "source": [
    "**Шаг 1. Получение данных**\n",
    " - 1.1. Импорт библиотек и загрузка данных\n",
    " - 1.2. Осмотр данных\n",
    " - 1.3. Выводы\n",
    "\n",
    "**Шаг 2. Предобработка данных**\n",
    " - 2.1. Замена названия столбцов\n",
    " - 2.2. Обработка пропусков\n",
    " - 2.3. Замена типа данных\n",
    " - 2.4. Преобразование строки в нижний регистр\n",
    " - 2.5. Обработка дубликатов\n",
    " - 2.6. Лемматизация\n",
    " - 2.7. Категоризация данных\n",
    " - 2.8. Выводы\n",
    " \n",
    "**Шаг 3. Ответы на вопросы**\n",
    " - 3.1. Есть ли зависимость между наличием детей и возвратом кредита в срок?\n",
    " - 3.2. Есть ли зависимость между семейным положением и возвратом кредита в срок?\n",
    " - 3.3. Есть ли зависимость между уровнем дохода и возвратом кредита в срок?\n",
    " - 3.4. Как разные цели кредита влияют на его возврат в срок?\n",
    "\n",
    "**Шаг 4. Общий вывод исследования**"
   ]
  },
  {
   "cell_type": "markdown",
   "metadata": {},
   "source": [
    "---"
   ]
  },
  {
   "cell_type": "markdown",
   "metadata": {},
   "source": [
    "## Шаг 1. Получение данных"
   ]
  },
  {
   "cell_type": "markdown",
   "metadata": {},
   "source": [
    "### 1.1. Импорт библиотек и загрузка данных"
   ]
  },
  {
   "cell_type": "code",
   "execution_count": 1,
   "metadata": {},
   "outputs": [],
   "source": [
    "# Необходимые библиотеки.\n",
    "import pandas as pd                      # для анализа данных\n",
    "import numpy as np                       # для математических вычислений\n",
    "\n",
    "#!pip install pymystem3\n",
    "from pymystem3 import Mystem             # для лемматизации\n",
    "from collections import Counter          # для подсчёта числа лемматизированных слов  \n",
    "\n",
    "# Прочитаем файл credit_scoring.csv методом read_csv(), сохраним его в переменной df.\n",
    "df = pd.read_csv('credit_scoring.csv')  "
   ]
  },
  {
   "cell_type": "code",
   "execution_count": 2,
   "metadata": {},
   "outputs": [],
   "source": [
    "# С помощью pd.set_option настроим вывод так чтобы:\n",
    "pd.set_option('display.max_columns', None) \n",
    "pd.set_option('display.max_colwidth', None)                 # текст в ячейке отражался полностью вне зависимости от длины;\n",
    "pd.set_option('display.float_format', '{:.2f}'.format)      # все числа отражались с двумя знаками после запятой."
   ]
  },
  {
   "cell_type": "markdown",
   "metadata": {},
   "source": [
    "### 1.2. Осмотр данных"
   ]
  },
  {
   "cell_type": "markdown",
   "metadata": {},
   "source": [
    "Для знакомства с данными запросим несколько строк из начала и конца таблицы, вызывая методы head() и tail()."
   ]
  },
  {
   "cell_type": "code",
   "execution_count": 3,
   "metadata": {
    "scrolled": false
   },
   "outputs": [
    {
     "data": {
      "text/html": [
       "<div>\n",
       "<style scoped>\n",
       "    .dataframe tbody tr th:only-of-type {\n",
       "        vertical-align: middle;\n",
       "    }\n",
       "\n",
       "    .dataframe tbody tr th {\n",
       "        vertical-align: top;\n",
       "    }\n",
       "\n",
       "    .dataframe thead th {\n",
       "        text-align: right;\n",
       "    }\n",
       "</style>\n",
       "<table border=\"1\" class=\"dataframe\">\n",
       "  <thead>\n",
       "    <tr style=\"text-align: right;\">\n",
       "      <th></th>\n",
       "      <th>children</th>\n",
       "      <th>days_employed</th>\n",
       "      <th>dob_years</th>\n",
       "      <th>education</th>\n",
       "      <th>education_id</th>\n",
       "      <th>family_status</th>\n",
       "      <th>family_status_id</th>\n",
       "      <th>gender</th>\n",
       "      <th>income_type</th>\n",
       "      <th>debt</th>\n",
       "      <th>total_income</th>\n",
       "      <th>purpose</th>\n",
       "    </tr>\n",
       "  </thead>\n",
       "  <tbody>\n",
       "    <tr>\n",
       "      <th>0</th>\n",
       "      <td>1</td>\n",
       "      <td>-8437.67</td>\n",
       "      <td>42</td>\n",
       "      <td>высшее</td>\n",
       "      <td>0</td>\n",
       "      <td>женат / замужем</td>\n",
       "      <td>0</td>\n",
       "      <td>F</td>\n",
       "      <td>сотрудник</td>\n",
       "      <td>0</td>\n",
       "      <td>253875.64</td>\n",
       "      <td>покупка жилья</td>\n",
       "    </tr>\n",
       "    <tr>\n",
       "      <th>1</th>\n",
       "      <td>1</td>\n",
       "      <td>-4024.80</td>\n",
       "      <td>36</td>\n",
       "      <td>среднее</td>\n",
       "      <td>1</td>\n",
       "      <td>женат / замужем</td>\n",
       "      <td>0</td>\n",
       "      <td>F</td>\n",
       "      <td>сотрудник</td>\n",
       "      <td>0</td>\n",
       "      <td>112080.01</td>\n",
       "      <td>приобретение автомобиля</td>\n",
       "    </tr>\n",
       "    <tr>\n",
       "      <th>2</th>\n",
       "      <td>0</td>\n",
       "      <td>-5623.42</td>\n",
       "      <td>33</td>\n",
       "      <td>Среднее</td>\n",
       "      <td>1</td>\n",
       "      <td>женат / замужем</td>\n",
       "      <td>0</td>\n",
       "      <td>M</td>\n",
       "      <td>сотрудник</td>\n",
       "      <td>0</td>\n",
       "      <td>145885.95</td>\n",
       "      <td>покупка жилья</td>\n",
       "    </tr>\n",
       "    <tr>\n",
       "      <th>3</th>\n",
       "      <td>3</td>\n",
       "      <td>-4124.75</td>\n",
       "      <td>32</td>\n",
       "      <td>среднее</td>\n",
       "      <td>1</td>\n",
       "      <td>женат / замужем</td>\n",
       "      <td>0</td>\n",
       "      <td>M</td>\n",
       "      <td>сотрудник</td>\n",
       "      <td>0</td>\n",
       "      <td>267628.55</td>\n",
       "      <td>дополнительное образование</td>\n",
       "    </tr>\n",
       "    <tr>\n",
       "      <th>4</th>\n",
       "      <td>0</td>\n",
       "      <td>340266.07</td>\n",
       "      <td>53</td>\n",
       "      <td>среднее</td>\n",
       "      <td>1</td>\n",
       "      <td>гражданский брак</td>\n",
       "      <td>1</td>\n",
       "      <td>F</td>\n",
       "      <td>пенсионер</td>\n",
       "      <td>0</td>\n",
       "      <td>158616.08</td>\n",
       "      <td>сыграть свадьбу</td>\n",
       "    </tr>\n",
       "    <tr>\n",
       "      <th>5</th>\n",
       "      <td>0</td>\n",
       "      <td>-926.19</td>\n",
       "      <td>27</td>\n",
       "      <td>высшее</td>\n",
       "      <td>0</td>\n",
       "      <td>гражданский брак</td>\n",
       "      <td>1</td>\n",
       "      <td>M</td>\n",
       "      <td>компаньон</td>\n",
       "      <td>0</td>\n",
       "      <td>255763.57</td>\n",
       "      <td>покупка жилья</td>\n",
       "    </tr>\n",
       "    <tr>\n",
       "      <th>6</th>\n",
       "      <td>0</td>\n",
       "      <td>-2879.20</td>\n",
       "      <td>43</td>\n",
       "      <td>высшее</td>\n",
       "      <td>0</td>\n",
       "      <td>женат / замужем</td>\n",
       "      <td>0</td>\n",
       "      <td>F</td>\n",
       "      <td>компаньон</td>\n",
       "      <td>0</td>\n",
       "      <td>240525.97</td>\n",
       "      <td>операции с жильем</td>\n",
       "    </tr>\n",
       "    <tr>\n",
       "      <th>7</th>\n",
       "      <td>0</td>\n",
       "      <td>-152.78</td>\n",
       "      <td>50</td>\n",
       "      <td>СРЕДНЕЕ</td>\n",
       "      <td>1</td>\n",
       "      <td>женат / замужем</td>\n",
       "      <td>0</td>\n",
       "      <td>M</td>\n",
       "      <td>сотрудник</td>\n",
       "      <td>0</td>\n",
       "      <td>135823.93</td>\n",
       "      <td>образование</td>\n",
       "    </tr>\n",
       "    <tr>\n",
       "      <th>8</th>\n",
       "      <td>2</td>\n",
       "      <td>-6929.87</td>\n",
       "      <td>35</td>\n",
       "      <td>ВЫСШЕЕ</td>\n",
       "      <td>0</td>\n",
       "      <td>гражданский брак</td>\n",
       "      <td>1</td>\n",
       "      <td>F</td>\n",
       "      <td>сотрудник</td>\n",
       "      <td>0</td>\n",
       "      <td>95856.83</td>\n",
       "      <td>на проведение свадьбы</td>\n",
       "    </tr>\n",
       "    <tr>\n",
       "      <th>9</th>\n",
       "      <td>0</td>\n",
       "      <td>-2188.76</td>\n",
       "      <td>41</td>\n",
       "      <td>среднее</td>\n",
       "      <td>1</td>\n",
       "      <td>женат / замужем</td>\n",
       "      <td>0</td>\n",
       "      <td>M</td>\n",
       "      <td>сотрудник</td>\n",
       "      <td>0</td>\n",
       "      <td>144425.94</td>\n",
       "      <td>покупка жилья для семьи</td>\n",
       "    </tr>\n",
       "  </tbody>\n",
       "</table>\n",
       "</div>"
      ],
      "text/plain": [
       "   children  days_employed  dob_years education  education_id  \\\n",
       "0         1       -8437.67         42    высшее             0   \n",
       "1         1       -4024.80         36   среднее             1   \n",
       "2         0       -5623.42         33   Среднее             1   \n",
       "3         3       -4124.75         32   среднее             1   \n",
       "4         0      340266.07         53   среднее             1   \n",
       "5         0        -926.19         27    высшее             0   \n",
       "6         0       -2879.20         43    высшее             0   \n",
       "7         0        -152.78         50   СРЕДНЕЕ             1   \n",
       "8         2       -6929.87         35    ВЫСШЕЕ             0   \n",
       "9         0       -2188.76         41   среднее             1   \n",
       "\n",
       "      family_status  family_status_id gender income_type  debt  total_income  \\\n",
       "0   женат / замужем                 0      F   сотрудник     0     253875.64   \n",
       "1   женат / замужем                 0      F   сотрудник     0     112080.01   \n",
       "2   женат / замужем                 0      M   сотрудник     0     145885.95   \n",
       "3   женат / замужем                 0      M   сотрудник     0     267628.55   \n",
       "4  гражданский брак                 1      F   пенсионер     0     158616.08   \n",
       "5  гражданский брак                 1      M   компаньон     0     255763.57   \n",
       "6   женат / замужем                 0      F   компаньон     0     240525.97   \n",
       "7   женат / замужем                 0      M   сотрудник     0     135823.93   \n",
       "8  гражданский брак                 1      F   сотрудник     0      95856.83   \n",
       "9   женат / замужем                 0      M   сотрудник     0     144425.94   \n",
       "\n",
       "                      purpose  \n",
       "0               покупка жилья  \n",
       "1     приобретение автомобиля  \n",
       "2               покупка жилья  \n",
       "3  дополнительное образование  \n",
       "4             сыграть свадьбу  \n",
       "5               покупка жилья  \n",
       "6           операции с жильем  \n",
       "7                 образование  \n",
       "8       на проведение свадьбы  \n",
       "9     покупка жилья для семьи  "
      ]
     },
     "execution_count": 3,
     "metadata": {},
     "output_type": "execute_result"
    }
   ],
   "source": [
    "df.head(10)  # получение первых 10 строк таблицы df"
   ]
  },
  {
   "cell_type": "code",
   "execution_count": 4,
   "metadata": {},
   "outputs": [
    {
     "data": {
      "text/html": [
       "<div>\n",
       "<style scoped>\n",
       "    .dataframe tbody tr th:only-of-type {\n",
       "        vertical-align: middle;\n",
       "    }\n",
       "\n",
       "    .dataframe tbody tr th {\n",
       "        vertical-align: top;\n",
       "    }\n",
       "\n",
       "    .dataframe thead th {\n",
       "        text-align: right;\n",
       "    }\n",
       "</style>\n",
       "<table border=\"1\" class=\"dataframe\">\n",
       "  <thead>\n",
       "    <tr style=\"text-align: right;\">\n",
       "      <th></th>\n",
       "      <th>children</th>\n",
       "      <th>days_employed</th>\n",
       "      <th>dob_years</th>\n",
       "      <th>education</th>\n",
       "      <th>education_id</th>\n",
       "      <th>family_status</th>\n",
       "      <th>family_status_id</th>\n",
       "      <th>gender</th>\n",
       "      <th>income_type</th>\n",
       "      <th>debt</th>\n",
       "      <th>total_income</th>\n",
       "      <th>purpose</th>\n",
       "    </tr>\n",
       "  </thead>\n",
       "  <tbody>\n",
       "    <tr>\n",
       "      <th>21515</th>\n",
       "      <td>1</td>\n",
       "      <td>-467.69</td>\n",
       "      <td>28</td>\n",
       "      <td>среднее</td>\n",
       "      <td>1</td>\n",
       "      <td>женат / замужем</td>\n",
       "      <td>0</td>\n",
       "      <td>F</td>\n",
       "      <td>сотрудник</td>\n",
       "      <td>1</td>\n",
       "      <td>109486.33</td>\n",
       "      <td>заняться образованием</td>\n",
       "    </tr>\n",
       "    <tr>\n",
       "      <th>21516</th>\n",
       "      <td>0</td>\n",
       "      <td>-914.39</td>\n",
       "      <td>42</td>\n",
       "      <td>высшее</td>\n",
       "      <td>0</td>\n",
       "      <td>женат / замужем</td>\n",
       "      <td>0</td>\n",
       "      <td>F</td>\n",
       "      <td>компаньон</td>\n",
       "      <td>0</td>\n",
       "      <td>322807.78</td>\n",
       "      <td>покупка своего жилья</td>\n",
       "    </tr>\n",
       "    <tr>\n",
       "      <th>21517</th>\n",
       "      <td>0</td>\n",
       "      <td>-404.68</td>\n",
       "      <td>42</td>\n",
       "      <td>высшее</td>\n",
       "      <td>0</td>\n",
       "      <td>гражданский брак</td>\n",
       "      <td>1</td>\n",
       "      <td>F</td>\n",
       "      <td>компаньон</td>\n",
       "      <td>0</td>\n",
       "      <td>178059.55</td>\n",
       "      <td>на покупку своего автомобиля</td>\n",
       "    </tr>\n",
       "    <tr>\n",
       "      <th>21518</th>\n",
       "      <td>0</td>\n",
       "      <td>373995.71</td>\n",
       "      <td>59</td>\n",
       "      <td>СРЕДНЕЕ</td>\n",
       "      <td>1</td>\n",
       "      <td>женат / замужем</td>\n",
       "      <td>0</td>\n",
       "      <td>F</td>\n",
       "      <td>пенсионер</td>\n",
       "      <td>0</td>\n",
       "      <td>153864.65</td>\n",
       "      <td>сделка с автомобилем</td>\n",
       "    </tr>\n",
       "    <tr>\n",
       "      <th>21519</th>\n",
       "      <td>1</td>\n",
       "      <td>-2351.43</td>\n",
       "      <td>37</td>\n",
       "      <td>ученая степень</td>\n",
       "      <td>4</td>\n",
       "      <td>в разводе</td>\n",
       "      <td>3</td>\n",
       "      <td>M</td>\n",
       "      <td>сотрудник</td>\n",
       "      <td>0</td>\n",
       "      <td>115949.04</td>\n",
       "      <td>покупка коммерческой недвижимости</td>\n",
       "    </tr>\n",
       "    <tr>\n",
       "      <th>21520</th>\n",
       "      <td>1</td>\n",
       "      <td>-4529.32</td>\n",
       "      <td>43</td>\n",
       "      <td>среднее</td>\n",
       "      <td>1</td>\n",
       "      <td>гражданский брак</td>\n",
       "      <td>1</td>\n",
       "      <td>F</td>\n",
       "      <td>компаньон</td>\n",
       "      <td>0</td>\n",
       "      <td>224791.86</td>\n",
       "      <td>операции с жильем</td>\n",
       "    </tr>\n",
       "    <tr>\n",
       "      <th>21521</th>\n",
       "      <td>0</td>\n",
       "      <td>343937.40</td>\n",
       "      <td>67</td>\n",
       "      <td>среднее</td>\n",
       "      <td>1</td>\n",
       "      <td>женат / замужем</td>\n",
       "      <td>0</td>\n",
       "      <td>F</td>\n",
       "      <td>пенсионер</td>\n",
       "      <td>0</td>\n",
       "      <td>155999.81</td>\n",
       "      <td>сделка с автомобилем</td>\n",
       "    </tr>\n",
       "    <tr>\n",
       "      <th>21522</th>\n",
       "      <td>1</td>\n",
       "      <td>-2113.35</td>\n",
       "      <td>38</td>\n",
       "      <td>среднее</td>\n",
       "      <td>1</td>\n",
       "      <td>гражданский брак</td>\n",
       "      <td>1</td>\n",
       "      <td>M</td>\n",
       "      <td>сотрудник</td>\n",
       "      <td>1</td>\n",
       "      <td>89672.56</td>\n",
       "      <td>недвижимость</td>\n",
       "    </tr>\n",
       "    <tr>\n",
       "      <th>21523</th>\n",
       "      <td>3</td>\n",
       "      <td>-3112.48</td>\n",
       "      <td>38</td>\n",
       "      <td>среднее</td>\n",
       "      <td>1</td>\n",
       "      <td>женат / замужем</td>\n",
       "      <td>0</td>\n",
       "      <td>M</td>\n",
       "      <td>сотрудник</td>\n",
       "      <td>1</td>\n",
       "      <td>244093.05</td>\n",
       "      <td>на покупку своего автомобиля</td>\n",
       "    </tr>\n",
       "    <tr>\n",
       "      <th>21524</th>\n",
       "      <td>2</td>\n",
       "      <td>-1984.51</td>\n",
       "      <td>40</td>\n",
       "      <td>среднее</td>\n",
       "      <td>1</td>\n",
       "      <td>женат / замужем</td>\n",
       "      <td>0</td>\n",
       "      <td>F</td>\n",
       "      <td>сотрудник</td>\n",
       "      <td>0</td>\n",
       "      <td>82047.42</td>\n",
       "      <td>на покупку автомобиля</td>\n",
       "    </tr>\n",
       "  </tbody>\n",
       "</table>\n",
       "</div>"
      ],
      "text/plain": [
       "       children  days_employed  dob_years       education  education_id  \\\n",
       "21515         1        -467.69         28         среднее             1   \n",
       "21516         0        -914.39         42          высшее             0   \n",
       "21517         0        -404.68         42          высшее             0   \n",
       "21518         0      373995.71         59         СРЕДНЕЕ             1   \n",
       "21519         1       -2351.43         37  ученая степень             4   \n",
       "21520         1       -4529.32         43         среднее             1   \n",
       "21521         0      343937.40         67         среднее             1   \n",
       "21522         1       -2113.35         38         среднее             1   \n",
       "21523         3       -3112.48         38         среднее             1   \n",
       "21524         2       -1984.51         40         среднее             1   \n",
       "\n",
       "          family_status  family_status_id gender income_type  debt  \\\n",
       "21515   женат / замужем                 0      F   сотрудник     1   \n",
       "21516   женат / замужем                 0      F   компаньон     0   \n",
       "21517  гражданский брак                 1      F   компаньон     0   \n",
       "21518   женат / замужем                 0      F   пенсионер     0   \n",
       "21519         в разводе                 3      M   сотрудник     0   \n",
       "21520  гражданский брак                 1      F   компаньон     0   \n",
       "21521   женат / замужем                 0      F   пенсионер     0   \n",
       "21522  гражданский брак                 1      M   сотрудник     1   \n",
       "21523   женат / замужем                 0      M   сотрудник     1   \n",
       "21524   женат / замужем                 0      F   сотрудник     0   \n",
       "\n",
       "       total_income                            purpose  \n",
       "21515     109486.33              заняться образованием  \n",
       "21516     322807.78               покупка своего жилья  \n",
       "21517     178059.55       на покупку своего автомобиля  \n",
       "21518     153864.65               сделка с автомобилем  \n",
       "21519     115949.04  покупка коммерческой недвижимости  \n",
       "21520     224791.86                  операции с жильем  \n",
       "21521     155999.81               сделка с автомобилем  \n",
       "21522      89672.56                       недвижимость  \n",
       "21523     244093.05       на покупку своего автомобиля  \n",
       "21524      82047.42              на покупку автомобиля  "
      ]
     },
     "execution_count": 4,
     "metadata": {},
     "output_type": "execute_result"
    }
   ],
   "source": [
    "df.tail(10) # получение последних 10 строк таблицы df"
   ]
  },
  {
   "cell_type": "code",
   "execution_count": 5,
   "metadata": {},
   "outputs": [
    {
     "data": {
      "text/html": [
       "<div>\n",
       "<style scoped>\n",
       "    .dataframe tbody tr th:only-of-type {\n",
       "        vertical-align: middle;\n",
       "    }\n",
       "\n",
       "    .dataframe tbody tr th {\n",
       "        vertical-align: top;\n",
       "    }\n",
       "\n",
       "    .dataframe thead th {\n",
       "        text-align: right;\n",
       "    }\n",
       "</style>\n",
       "<table border=\"1\" class=\"dataframe\">\n",
       "  <thead>\n",
       "    <tr style=\"text-align: right;\">\n",
       "      <th></th>\n",
       "      <th>count</th>\n",
       "      <th>mean</th>\n",
       "      <th>std</th>\n",
       "      <th>min</th>\n",
       "      <th>25%</th>\n",
       "      <th>50%</th>\n",
       "      <th>75%</th>\n",
       "      <th>max</th>\n",
       "    </tr>\n",
       "  </thead>\n",
       "  <tbody>\n",
       "    <tr>\n",
       "      <th>children</th>\n",
       "      <td>21525.00</td>\n",
       "      <td>0.54</td>\n",
       "      <td>1.38</td>\n",
       "      <td>-1.00</td>\n",
       "      <td>0.00</td>\n",
       "      <td>0.00</td>\n",
       "      <td>1.00</td>\n",
       "      <td>20.00</td>\n",
       "    </tr>\n",
       "    <tr>\n",
       "      <th>days_employed</th>\n",
       "      <td>19351.00</td>\n",
       "      <td>63046.50</td>\n",
       "      <td>140827.31</td>\n",
       "      <td>-18388.95</td>\n",
       "      <td>-2747.42</td>\n",
       "      <td>-1203.37</td>\n",
       "      <td>-291.10</td>\n",
       "      <td>401755.40</td>\n",
       "    </tr>\n",
       "    <tr>\n",
       "      <th>dob_years</th>\n",
       "      <td>21525.00</td>\n",
       "      <td>43.29</td>\n",
       "      <td>12.57</td>\n",
       "      <td>0.00</td>\n",
       "      <td>33.00</td>\n",
       "      <td>42.00</td>\n",
       "      <td>53.00</td>\n",
       "      <td>75.00</td>\n",
       "    </tr>\n",
       "    <tr>\n",
       "      <th>education_id</th>\n",
       "      <td>21525.00</td>\n",
       "      <td>0.82</td>\n",
       "      <td>0.55</td>\n",
       "      <td>0.00</td>\n",
       "      <td>1.00</td>\n",
       "      <td>1.00</td>\n",
       "      <td>1.00</td>\n",
       "      <td>4.00</td>\n",
       "    </tr>\n",
       "    <tr>\n",
       "      <th>family_status_id</th>\n",
       "      <td>21525.00</td>\n",
       "      <td>0.97</td>\n",
       "      <td>1.42</td>\n",
       "      <td>0.00</td>\n",
       "      <td>0.00</td>\n",
       "      <td>0.00</td>\n",
       "      <td>1.00</td>\n",
       "      <td>4.00</td>\n",
       "    </tr>\n",
       "    <tr>\n",
       "      <th>debt</th>\n",
       "      <td>21525.00</td>\n",
       "      <td>0.08</td>\n",
       "      <td>0.27</td>\n",
       "      <td>0.00</td>\n",
       "      <td>0.00</td>\n",
       "      <td>0.00</td>\n",
       "      <td>0.00</td>\n",
       "      <td>1.00</td>\n",
       "    </tr>\n",
       "    <tr>\n",
       "      <th>total_income</th>\n",
       "      <td>19351.00</td>\n",
       "      <td>167422.30</td>\n",
       "      <td>102971.57</td>\n",
       "      <td>20667.26</td>\n",
       "      <td>103053.15</td>\n",
       "      <td>145017.94</td>\n",
       "      <td>203435.07</td>\n",
       "      <td>2265604.03</td>\n",
       "    </tr>\n",
       "  </tbody>\n",
       "</table>\n",
       "</div>"
      ],
      "text/plain": [
       "                    count      mean       std       min       25%       50%  \\\n",
       "children         21525.00      0.54      1.38     -1.00      0.00      0.00   \n",
       "days_employed    19351.00  63046.50 140827.31 -18388.95  -2747.42  -1203.37   \n",
       "dob_years        21525.00     43.29     12.57      0.00     33.00     42.00   \n",
       "education_id     21525.00      0.82      0.55      0.00      1.00      1.00   \n",
       "family_status_id 21525.00      0.97      1.42      0.00      0.00      0.00   \n",
       "debt             21525.00      0.08      0.27      0.00      0.00      0.00   \n",
       "total_income     19351.00 167422.30 102971.57  20667.26 103053.15 145017.94   \n",
       "\n",
       "                       75%        max  \n",
       "children              1.00      20.00  \n",
       "days_employed      -291.10  401755.40  \n",
       "dob_years            53.00      75.00  \n",
       "education_id          1.00       4.00  \n",
       "family_status_id      1.00       4.00  \n",
       "debt                  0.00       1.00  \n",
       "total_income     203435.07 2265604.03  "
      ]
     },
     "execution_count": 5,
     "metadata": {},
     "output_type": "execute_result"
    }
   ],
   "source": [
    "df.describe().T # выведем статистику о датасете методом describe()"
   ]
  },
  {
   "cell_type": "code",
   "execution_count": 6,
   "metadata": {},
   "outputs": [
    {
     "data": {
      "text/html": [
       "<div>\n",
       "<style scoped>\n",
       "    .dataframe tbody tr th:only-of-type {\n",
       "        vertical-align: middle;\n",
       "    }\n",
       "\n",
       "    .dataframe tbody tr th {\n",
       "        vertical-align: top;\n",
       "    }\n",
       "\n",
       "    .dataframe thead th {\n",
       "        text-align: right;\n",
       "    }\n",
       "</style>\n",
       "<table border=\"1\" class=\"dataframe\">\n",
       "  <thead>\n",
       "    <tr style=\"text-align: right;\">\n",
       "      <th></th>\n",
       "      <th>count</th>\n",
       "      <th>unique</th>\n",
       "      <th>top</th>\n",
       "      <th>freq</th>\n",
       "    </tr>\n",
       "  </thead>\n",
       "  <tbody>\n",
       "    <tr>\n",
       "      <th>education</th>\n",
       "      <td>21525</td>\n",
       "      <td>15</td>\n",
       "      <td>среднее</td>\n",
       "      <td>13750</td>\n",
       "    </tr>\n",
       "    <tr>\n",
       "      <th>family_status</th>\n",
       "      <td>21525</td>\n",
       "      <td>5</td>\n",
       "      <td>женат / замужем</td>\n",
       "      <td>12380</td>\n",
       "    </tr>\n",
       "    <tr>\n",
       "      <th>gender</th>\n",
       "      <td>21525</td>\n",
       "      <td>3</td>\n",
       "      <td>F</td>\n",
       "      <td>14236</td>\n",
       "    </tr>\n",
       "    <tr>\n",
       "      <th>income_type</th>\n",
       "      <td>21525</td>\n",
       "      <td>8</td>\n",
       "      <td>сотрудник</td>\n",
       "      <td>11119</td>\n",
       "    </tr>\n",
       "    <tr>\n",
       "      <th>purpose</th>\n",
       "      <td>21525</td>\n",
       "      <td>38</td>\n",
       "      <td>свадьба</td>\n",
       "      <td>797</td>\n",
       "    </tr>\n",
       "  </tbody>\n",
       "</table>\n",
       "</div>"
      ],
      "text/plain": [
       "               count unique              top   freq\n",
       "education      21525     15          среднее  13750\n",
       "family_status  21525      5  женат / замужем  12380\n",
       "gender         21525      3                F  14236\n",
       "income_type    21525      8        сотрудник  11119\n",
       "purpose        21525     38          свадьба    797"
      ]
     },
     "execution_count": 6,
     "metadata": {},
     "output_type": "execute_result"
    }
   ],
   "source": [
    "df.describe(include='object').T # теперь включая только строковые столбцы "
   ]
  },
  {
   "cell_type": "code",
   "execution_count": 7,
   "metadata": {},
   "outputs": [
    {
     "data": {
      "text/plain": [
       "children               0\n",
       "dob_years              0\n",
       "education              0\n",
       "education_id           0\n",
       "family_status          0\n",
       "family_status_id       0\n",
       "gender                 0\n",
       "income_type            0\n",
       "debt                   0\n",
       "purpose                0\n",
       "days_employed       2174\n",
       "total_income        2174\n",
       "dtype: int64"
      ]
     },
     "execution_count": 7,
     "metadata": {},
     "output_type": "execute_result"
    }
   ],
   "source": [
    "df.isnull().sum().sort_values() # суммарное количество пропусков, отсортируем методом sort_values()"
   ]
  },
  {
   "cell_type": "code",
   "execution_count": 8,
   "metadata": {},
   "outputs": [
    {
     "data": {
      "text/plain": [
       "54"
      ]
     },
     "execution_count": 8,
     "metadata": {},
     "output_type": "execute_result"
    }
   ],
   "source": [
    "df.duplicated().sum() # количество дубликатов"
   ]
  },
  {
   "cell_type": "code",
   "execution_count": 9,
   "metadata": {},
   "outputs": [
    {
     "name": "stdout",
     "output_type": "stream",
     "text": [
      "<class 'pandas.core.frame.DataFrame'>\n",
      "RangeIndex: 21525 entries, 0 to 21524\n",
      "Data columns (total 12 columns):\n",
      " #   Column            Non-Null Count  Dtype  \n",
      "---  ------            --------------  -----  \n",
      " 0   children          21525 non-null  int64  \n",
      " 1   days_employed     19351 non-null  float64\n",
      " 2   dob_years         21525 non-null  int64  \n",
      " 3   education         21525 non-null  object \n",
      " 4   education_id      21525 non-null  int64  \n",
      " 5   family_status     21525 non-null  object \n",
      " 6   family_status_id  21525 non-null  int64  \n",
      " 7   gender            21525 non-null  object \n",
      " 8   income_type       21525 non-null  object \n",
      " 9   debt              21525 non-null  int64  \n",
      " 10  total_income      19351 non-null  float64\n",
      " 11  purpose           21525 non-null  object \n",
      "dtypes: float64(2), int64(5), object(5)\n",
      "memory usage: 2.0+ MB\n"
     ]
    }
   ],
   "source": [
    "df.info() # получение общей информации о данных в таблице df. Применим к таблице df метод info()"
   ]
  },
  {
   "cell_type": "markdown",
   "metadata": {},
   "source": [
    "Всего в таблице 21525 строк (наблюдений) и 12 столбцов, в них встречаются разные типы данных: float64 (вещественные числа), int64 (целые числа) и object (строки). Видим, что в разных столбцах разное количество элементов с определёнными значениями. Следовательно, в таблице есть пропущенные значения, их нужно обработать."
   ]
  },
  {
   "cell_type": "markdown",
   "metadata": {},
   "source": [
    "### Вывод"
   ]
  },
  {
   "cell_type": "markdown",
   "metadata": {},
   "source": [
    "Наблюдаются следующие проблемы с данными:\n",
    "\n",
    "- названия столбцов написаны не совсем удобно и понятно;\n",
    "- пропущенные значения в столбце 'общий трудовой стаж в днях' и 'ежемесячный доход';\n",
    "- наличие дубликатов в переменных;\n",
    "- аномальные значения: \n",
    "    отрицательные значения в переменных 'количество детей в семье' и 'общий трудовой стаж в днях', \n",
    "    нулевые значения в переменной 'возраст клиента в годах';\n",
    "- вещественный тип данных в переменных 'общий трудовой стаж в днях' и 'ежемесячный доход';\n",
    "- варьируется регистр букв в переменной 'уровень образования клиента'."
   ]
  },
  {
   "cell_type": "markdown",
   "metadata": {},
   "source": [
    "## Шаг 2. Предобработка данных"
   ]
  },
  {
   "cell_type": "markdown",
   "metadata": {},
   "source": [
    "### 2.1. Замена названия столбцов"
   ]
  },
  {
   "cell_type": "code",
   "execution_count": 10,
   "metadata": {},
   "outputs": [
    {
     "data": {
      "text/plain": [
       "Index(['children', 'days_employed', 'dob_years', 'education', 'education_id',\n",
       "       'family_status', 'family_status_id', 'gender', 'income_type', 'debt',\n",
       "       'total_income', 'purpose'],\n",
       "      dtype='object')"
      ]
     },
     "execution_count": 10,
     "metadata": {},
     "output_type": "execute_result"
    }
   ],
   "source": [
    "# Получаем перечень названий столбцов таблицы df.\n",
    "df.columns"
   ]
  },
  {
   "cell_type": "code",
   "execution_count": 11,
   "metadata": {},
   "outputs": [
    {
     "data": {
      "text/plain": [
       "Index(['number_of_children', 'days_employed', 'client_age', 'education_level',\n",
       "       'education_level_id', 'family_status', 'family_status_id', 'gender',\n",
       "       'employment_type', 'debt', 'monthly_income', 'credit_purpose'],\n",
       "      dtype='object')"
      ]
     },
     "execution_count": 11,
     "metadata": {},
     "output_type": "execute_result"
    }
   ],
   "source": [
    "# Переименуем некоторые столбцы для удобства дальнейшей работы. Проверим результат.\n",
    "new_names=['number_of_children', 'days_employed', 'client_age', \n",
    "           'education_level', 'education_level_id', 'family_status', \n",
    "           'family_status_id', 'gender', 'employment_type', 'debt', \n",
    "           'monthly_income', 'credit_purpose']\n",
    "\n",
    "df.set_axis(new_names, axis='columns', inplace=True)\n",
    "df.columns"
   ]
  },
  {
   "cell_type": "markdown",
   "metadata": {},
   "source": [
    "### 2.2. Обработка пропусков"
   ]
  },
  {
   "cell_type": "markdown",
   "metadata": {},
   "source": [
    "**Для начала исправим ошибки в данных, а потом заполним пропуски.**"
   ]
  },
  {
   "cell_type": "code",
   "execution_count": 12,
   "metadata": {},
   "outputs": [
    {
     "data": {
      "text/plain": [
       " 0     14149\n",
       " 1      4818\n",
       " 2      2055\n",
       " 3       330\n",
       " 20       76\n",
       "-1        47\n",
       " 4        41\n",
       " 5         9\n",
       "Name: number_of_children, dtype: int64"
      ]
     },
     "execution_count": 12,
     "metadata": {},
     "output_type": "execute_result"
    }
   ],
   "source": [
    "# Вызовем к столбцу 'number_of_children' метод value_counts(), \n",
    "# который возвращает уникальные значения и количество их упоминаний.\n",
    "df['number_of_children'].value_counts()"
   ]
  },
  {
   "cell_type": "code",
   "execution_count": 13,
   "metadata": {},
   "outputs": [],
   "source": [
    "# Заменим отрицательные числа на положительные методом replace(), который используется для замены строки другой строкой. \n",
    "df['number_of_children'] = df['number_of_children'].replace(-1, 1)  # Заменим -1 на 1."
   ]
  },
  {
   "cell_type": "code",
   "execution_count": 14,
   "metadata": {},
   "outputs": [],
   "source": [
    "# 20 детей в семье выглядит странно, посчитаем что произошла ошибка при записи. \n",
    "# Заменим 20 детей на 2 ребенка методом replace().\n",
    "df['number_of_children'] = df['number_of_children'].replace(20, 2)  # Заменим 20 на 2."
   ]
  },
  {
   "cell_type": "code",
   "execution_count": 15,
   "metadata": {},
   "outputs": [
    {
     "data": {
      "text/plain": [
       "0    14149\n",
       "1     4865\n",
       "2     2131\n",
       "3      330\n",
       "4       41\n",
       "5        9\n",
       "Name: number_of_children, dtype: int64"
      ]
     },
     "execution_count": 15,
     "metadata": {},
     "output_type": "execute_result"
    }
   ],
   "source": [
    "# Проверим результат.\n",
    "df['number_of_children'].value_counts()"
   ]
  },
  {
   "cell_type": "markdown",
   "metadata": {},
   "source": [
    "**Рассмотрим значения в переменной 'возраст клиента в годах'.**"
   ]
  },
  {
   "cell_type": "code",
   "execution_count": 16,
   "metadata": {},
   "outputs": [
    {
     "data": {
      "text/plain": [
       "35    617\n",
       "40    609\n",
       "41    607\n",
       "34    603\n",
       "38    598\n",
       "42    597\n",
       "33    581\n",
       "39    573\n",
       "31    560\n",
       "36    555\n",
       "44    547\n",
       "29    545\n",
       "30    540\n",
       "48    538\n",
       "37    537\n",
       "50    514\n",
       "43    513\n",
       "32    510\n",
       "49    508\n",
       "28    503\n",
       "45    497\n",
       "27    493\n",
       "56    487\n",
       "52    484\n",
       "47    480\n",
       "54    479\n",
       "46    475\n",
       "58    461\n",
       "57    460\n",
       "53    459\n",
       "51    448\n",
       "59    444\n",
       "55    443\n",
       "26    408\n",
       "60    377\n",
       "25    357\n",
       "61    355\n",
       "62    352\n",
       "63    269\n",
       "64    265\n",
       "24    264\n",
       "23    254\n",
       "65    194\n",
       "66    183\n",
       "22    183\n",
       "67    167\n",
       "21    111\n",
       "0     101\n",
       "68     99\n",
       "69     85\n",
       "70     65\n",
       "71     58\n",
       "20     51\n",
       "72     33\n",
       "19     14\n",
       "73      8\n",
       "74      6\n",
       "75      1\n",
       "Name: client_age, dtype: int64"
      ]
     },
     "execution_count": 16,
     "metadata": {},
     "output_type": "execute_result"
    }
   ],
   "source": [
    "# Посчитаем методом value_counts() количество клиентов каждого возраста, по убыванию.\n",
    "df['client_age'].value_counts(ascending=False)"
   ]
  },
  {
   "cell_type": "code",
   "execution_count": 17,
   "metadata": {},
   "outputs": [
    {
     "data": {
      "text/plain": [
       "43.29337979094077"
      ]
     },
     "execution_count": 17,
     "metadata": {},
     "output_type": "execute_result"
    }
   ],
   "source": [
    "# Работать с нулевыми значениями в возрасте не совсем корректно, их 101 человек. Возможно ошибка при записи.\n",
    "# Чтобы примерно оценить типичные значения выборки, годятся среднее арифметическое или медиана.\n",
    "# Для получения среднего значения вызовем метод mean()\n",
    "df['client_age'].mean()"
   ]
  },
  {
   "cell_type": "code",
   "execution_count": 18,
   "metadata": {},
   "outputs": [],
   "source": [
    "# Заменим нули на среднее методом replace(), который используется для замены строки другой строкой. \n",
    "df['client_age'] = df['client_age'].replace(0, 43)  # Заменим 0 на 43."
   ]
  },
  {
   "cell_type": "code",
   "execution_count": 19,
   "metadata": {},
   "outputs": [
    {
     "data": {
      "text/plain": [
       "35    617\n",
       "43    614\n",
       "40    609\n",
       "41    607\n",
       "34    603\n",
       "38    598\n",
       "42    597\n",
       "33    581\n",
       "39    573\n",
       "31    560\n",
       "36    555\n",
       "44    547\n",
       "29    545\n",
       "30    540\n",
       "48    538\n",
       "37    537\n",
       "50    514\n",
       "32    510\n",
       "49    508\n",
       "28    503\n",
       "45    497\n",
       "27    493\n",
       "56    487\n",
       "52    484\n",
       "47    480\n",
       "54    479\n",
       "46    475\n",
       "58    461\n",
       "57    460\n",
       "53    459\n",
       "51    448\n",
       "59    444\n",
       "55    443\n",
       "26    408\n",
       "60    377\n",
       "25    357\n",
       "61    355\n",
       "62    352\n",
       "63    269\n",
       "64    265\n",
       "24    264\n",
       "23    254\n",
       "65    194\n",
       "66    183\n",
       "22    183\n",
       "67    167\n",
       "21    111\n",
       "68     99\n",
       "69     85\n",
       "70     65\n",
       "71     58\n",
       "20     51\n",
       "72     33\n",
       "19     14\n",
       "73      8\n",
       "74      6\n",
       "75      1\n",
       "Name: client_age, dtype: int64"
      ]
     },
     "execution_count": 19,
     "metadata": {},
     "output_type": "execute_result"
    }
   ],
   "source": [
    "# Проверим результат.\n",
    "df['client_age'].value_counts(ascending=False)"
   ]
  },
  {
   "cell_type": "markdown",
   "metadata": {},
   "source": [
    "**Разберемся с пропущенными значениями в столбце 'общий трудовой стаж в днях' и 'ежемесячный доход', но для начала исправим ошибки в данных, потому что ошибки могут влиять на медиану и среднее.**"
   ]
  },
  {
   "cell_type": "code",
   "execution_count": 20,
   "metadata": {},
   "outputs": [
    {
     "data": {
      "text/plain": [
       "-986.93     1\n",
       "-7026.36    1\n",
       "-4236.27    1\n",
       "-6620.40    1\n",
       "-1238.56    1\n",
       "           ..\n",
       "-2849.35    1\n",
       "-5619.33    1\n",
       "-448.83     1\n",
       "-1687.04    1\n",
       "-582.54     1\n",
       "Name: days_employed, Length: 19351, dtype: int64"
      ]
     },
     "execution_count": 20,
     "metadata": {},
     "output_type": "execute_result"
    }
   ],
   "source": [
    "# Вызовем к столбцу 'days_employed' метод value_counts(), который возвращает уникальные значения и количество их упоминаний.\n",
    "df['days_employed'].value_counts()"
   ]
  },
  {
   "cell_type": "markdown",
   "metadata": {},
   "source": [
    "Видим аномалию в данных, это отрицательные значения. Для решения этой проблемы используем метод abs(), который возвращает абсолютное значение заданного числа."
   ]
  },
  {
   "cell_type": "code",
   "execution_count": 21,
   "metadata": {},
   "outputs": [
    {
     "data": {
      "text/plain": [
       "0         8437.67\n",
       "1         4024.80\n",
       "2         5623.42\n",
       "3         4124.75\n",
       "4       340266.07\n",
       "           ...   \n",
       "21520     4529.32\n",
       "21521   343937.40\n",
       "21522     2113.35\n",
       "21523     3112.48\n",
       "21524     1984.51\n",
       "Name: days_employed, Length: 21525, dtype: float64"
      ]
     },
     "execution_count": 21,
     "metadata": {},
     "output_type": "execute_result"
    }
   ],
   "source": [
    "# Вызовем метод abs().\n",
    "df['days_employed'] = df['days_employed'].abs()\n",
    "df['days_employed']"
   ]
  },
  {
   "cell_type": "markdown",
   "metadata": {},
   "source": [
    "Проверим данные на наличие пропусков вызовом набора методов для суммирования пропущенных\n",
    "значений."
   ]
  },
  {
   "cell_type": "code",
   "execution_count": 22,
   "metadata": {
    "scrolled": true
   },
   "outputs": [
    {
     "data": {
      "text/plain": [
       "number_of_children       0\n",
       "days_employed         2174\n",
       "client_age               0\n",
       "education_level          0\n",
       "education_level_id       0\n",
       "family_status            0\n",
       "family_status_id         0\n",
       "gender                   0\n",
       "employment_type          0\n",
       "debt                     0\n",
       "monthly_income        2174\n",
       "credit_purpose           0\n",
       "dtype: int64"
      ]
     },
     "execution_count": 22,
     "metadata": {},
     "output_type": "execute_result"
    }
   ],
   "source": [
    "# Суммарное количество пропусков, выявленных методом isnull() в таблице df.\n",
    "df.isnull().sum()"
   ]
  },
  {
   "cell_type": "code",
   "execution_count": 23,
   "metadata": {
    "scrolled": true
   },
   "outputs": [
    {
     "data": {
      "text/html": [
       "<div>\n",
       "<style scoped>\n",
       "    .dataframe tbody tr th:only-of-type {\n",
       "        vertical-align: middle;\n",
       "    }\n",
       "\n",
       "    .dataframe tbody tr th {\n",
       "        vertical-align: top;\n",
       "    }\n",
       "\n",
       "    .dataframe thead th {\n",
       "        text-align: right;\n",
       "    }\n",
       "</style>\n",
       "<table border=\"1\" class=\"dataframe\">\n",
       "  <thead>\n",
       "    <tr style=\"text-align: right;\">\n",
       "      <th></th>\n",
       "      <th>number_of_children</th>\n",
       "      <th>days_employed</th>\n",
       "      <th>client_age</th>\n",
       "      <th>education_level</th>\n",
       "      <th>education_level_id</th>\n",
       "      <th>family_status</th>\n",
       "      <th>family_status_id</th>\n",
       "      <th>gender</th>\n",
       "      <th>employment_type</th>\n",
       "      <th>debt</th>\n",
       "      <th>monthly_income</th>\n",
       "      <th>credit_purpose</th>\n",
       "    </tr>\n",
       "  </thead>\n",
       "  <tbody>\n",
       "    <tr>\n",
       "      <th>12</th>\n",
       "      <td>0</td>\n",
       "      <td>nan</td>\n",
       "      <td>65</td>\n",
       "      <td>среднее</td>\n",
       "      <td>1</td>\n",
       "      <td>гражданский брак</td>\n",
       "      <td>1</td>\n",
       "      <td>M</td>\n",
       "      <td>пенсионер</td>\n",
       "      <td>0</td>\n",
       "      <td>nan</td>\n",
       "      <td>сыграть свадьбу</td>\n",
       "    </tr>\n",
       "    <tr>\n",
       "      <th>26</th>\n",
       "      <td>0</td>\n",
       "      <td>nan</td>\n",
       "      <td>41</td>\n",
       "      <td>среднее</td>\n",
       "      <td>1</td>\n",
       "      <td>женат / замужем</td>\n",
       "      <td>0</td>\n",
       "      <td>M</td>\n",
       "      <td>госслужащий</td>\n",
       "      <td>0</td>\n",
       "      <td>nan</td>\n",
       "      <td>образование</td>\n",
       "    </tr>\n",
       "    <tr>\n",
       "      <th>29</th>\n",
       "      <td>0</td>\n",
       "      <td>nan</td>\n",
       "      <td>63</td>\n",
       "      <td>среднее</td>\n",
       "      <td>1</td>\n",
       "      <td>Не женат / не замужем</td>\n",
       "      <td>4</td>\n",
       "      <td>F</td>\n",
       "      <td>пенсионер</td>\n",
       "      <td>0</td>\n",
       "      <td>nan</td>\n",
       "      <td>строительство жилой недвижимости</td>\n",
       "    </tr>\n",
       "    <tr>\n",
       "      <th>41</th>\n",
       "      <td>0</td>\n",
       "      <td>nan</td>\n",
       "      <td>50</td>\n",
       "      <td>среднее</td>\n",
       "      <td>1</td>\n",
       "      <td>женат / замужем</td>\n",
       "      <td>0</td>\n",
       "      <td>F</td>\n",
       "      <td>госслужащий</td>\n",
       "      <td>0</td>\n",
       "      <td>nan</td>\n",
       "      <td>сделка с подержанным автомобилем</td>\n",
       "    </tr>\n",
       "    <tr>\n",
       "      <th>55</th>\n",
       "      <td>0</td>\n",
       "      <td>nan</td>\n",
       "      <td>54</td>\n",
       "      <td>среднее</td>\n",
       "      <td>1</td>\n",
       "      <td>гражданский брак</td>\n",
       "      <td>1</td>\n",
       "      <td>F</td>\n",
       "      <td>пенсионер</td>\n",
       "      <td>1</td>\n",
       "      <td>nan</td>\n",
       "      <td>сыграть свадьбу</td>\n",
       "    </tr>\n",
       "  </tbody>\n",
       "</table>\n",
       "</div>"
      ],
      "text/plain": [
       "    number_of_children  days_employed  client_age education_level  \\\n",
       "12                   0            nan          65         среднее   \n",
       "26                   0            nan          41         среднее   \n",
       "29                   0            nan          63         среднее   \n",
       "41                   0            nan          50         среднее   \n",
       "55                   0            nan          54         среднее   \n",
       "\n",
       "    education_level_id          family_status  family_status_id gender  \\\n",
       "12                   1       гражданский брак                 1      M   \n",
       "26                   1        женат / замужем                 0      M   \n",
       "29                   1  Не женат / не замужем                 4      F   \n",
       "41                   1        женат / замужем                 0      F   \n",
       "55                   1       гражданский брак                 1      F   \n",
       "\n",
       "   employment_type  debt  monthly_income                    credit_purpose  \n",
       "12       пенсионер     0             nan                   сыграть свадьбу  \n",
       "26     госслужащий     0             nan                       образование  \n",
       "29       пенсионер     0             nan  строительство жилой недвижимости  \n",
       "41     госслужащий     0             nan  сделка с подержанным автомобилем  \n",
       "55       пенсионер     1             nan                   сыграть свадьбу  "
      ]
     },
     "execution_count": 23,
     "metadata": {},
     "output_type": "execute_result"
    }
   ],
   "source": [
    "# Найдём все строки с пропусками в столбце 'days_employed' и просмотрим первые пять.\n",
    "# df['days_employed'].isnull() проверяет все строки в столбце 'days_employed' и оставляет только те, в которых есть NaN.\n",
    "df[df['days_employed'].isnull()].head()"
   ]
  },
  {
   "cell_type": "code",
   "execution_count": 24,
   "metadata": {},
   "outputs": [
    {
     "data": {
      "text/plain": [
       "number_of_children    2174\n",
       "days_employed            0\n",
       "client_age            2174\n",
       "education_level       2174\n",
       "education_level_id    2174\n",
       "family_status         2174\n",
       "family_status_id      2174\n",
       "gender                2174\n",
       "employment_type       2174\n",
       "debt                  2174\n",
       "monthly_income           0\n",
       "credit_purpose        2174\n",
       "dtype: int64"
      ]
     },
     "execution_count": 24,
     "metadata": {},
     "output_type": "execute_result"
    }
   ],
   "source": [
    "# Чтобы сосчитать строки без стажа, вызовем метод count().\n",
    "df[df['days_employed'].isnull()].count()"
   ]
  },
  {
   "cell_type": "markdown",
   "metadata": {},
   "source": [
    "В 2174 строках из 21525 наблюдений дни стажа пропущены."
   ]
  },
  {
   "cell_type": "code",
   "execution_count": 25,
   "metadata": {},
   "outputs": [
    {
     "data": {
      "text/html": [
       "<div>\n",
       "<style scoped>\n",
       "    .dataframe tbody tr th:only-of-type {\n",
       "        vertical-align: middle;\n",
       "    }\n",
       "\n",
       "    .dataframe tbody tr th {\n",
       "        vertical-align: top;\n",
       "    }\n",
       "\n",
       "    .dataframe thead th {\n",
       "        text-align: right;\n",
       "    }\n",
       "</style>\n",
       "<table border=\"1\" class=\"dataframe\">\n",
       "  <thead>\n",
       "    <tr style=\"text-align: right;\">\n",
       "      <th></th>\n",
       "      <th>days_employed</th>\n",
       "    </tr>\n",
       "    <tr>\n",
       "      <th>client_age</th>\n",
       "      <th></th>\n",
       "    </tr>\n",
       "  </thead>\n",
       "  <tbody>\n",
       "    <tr>\n",
       "      <th>19</th>\n",
       "      <td>633.68</td>\n",
       "    </tr>\n",
       "    <tr>\n",
       "      <th>20</th>\n",
       "      <td>684.94</td>\n",
       "    </tr>\n",
       "    <tr>\n",
       "      <th>21</th>\n",
       "      <td>709.44</td>\n",
       "    </tr>\n",
       "    <tr>\n",
       "      <th>22</th>\n",
       "      <td>2793.32</td>\n",
       "    </tr>\n",
       "    <tr>\n",
       "      <th>23</th>\n",
       "      <td>827.31</td>\n",
       "    </tr>\n",
       "  </tbody>\n",
       "</table>\n",
       "</div>"
      ],
      "text/plain": [
       "            days_employed\n",
       "client_age               \n",
       "19                 633.68\n",
       "20                 684.94\n",
       "21                 709.44\n",
       "22                2793.32\n",
       "23                 827.31"
      ]
     },
     "execution_count": 25,
     "metadata": {},
     "output_type": "execute_result"
    }
   ],
   "source": [
    "# Создаю переменную 'mean_days_employed' и группирую таблицу по столбцу 'client_age',\n",
    "# чтобы посчитать среднее значение days_employed по возрасту клиента. \n",
    "# Потом заменим пропуски на среднее число методом fillna().\n",
    "mean_days_employed = df.groupby('client_age').agg({'days_employed':'mean'})\n",
    " \n",
    "for client_age in mean_days_employed.index:\n",
    "    df.loc[df['client_age'] == client_age,'days_employed'] = df.loc[df['client_age'] == client_age,'days_employed']\\\n",
    "      .fillna(mean_days_employed.loc[client_age, 'days_employed'])\n",
    "\n",
    "mean_days_employed.head()"
   ]
  },
  {
   "cell_type": "code",
   "execution_count": 26,
   "metadata": {},
   "outputs": [
    {
     "data": {
      "text/plain": [
       "number_of_children       0\n",
       "days_employed            0\n",
       "client_age               0\n",
       "education_level          0\n",
       "education_level_id       0\n",
       "family_status            0\n",
       "family_status_id         0\n",
       "gender                   0\n",
       "employment_type          0\n",
       "debt                     0\n",
       "monthly_income        2174\n",
       "credit_purpose           0\n",
       "dtype: int64"
      ]
     },
     "execution_count": 26,
     "metadata": {},
     "output_type": "execute_result"
    }
   ],
   "source": [
    "# Проверим замену.\n",
    "df.isnull().sum()"
   ]
  },
  {
   "cell_type": "code",
   "execution_count": 27,
   "metadata": {},
   "outputs": [
    {
     "data": {
      "text/plain": [
       "number_of_children    2174\n",
       "days_employed         2174\n",
       "client_age            2174\n",
       "education_level       2174\n",
       "education_level_id    2174\n",
       "family_status         2174\n",
       "family_status_id      2174\n",
       "gender                2174\n",
       "employment_type       2174\n",
       "debt                  2174\n",
       "monthly_income           0\n",
       "credit_purpose        2174\n",
       "dtype: int64"
      ]
     },
     "execution_count": 27,
     "metadata": {},
     "output_type": "execute_result"
    }
   ],
   "source": [
    "# Чтобы сосчитать строки без дохода, вызовем метод count().\n",
    "df[df['monthly_income'].isnull()].count()"
   ]
  },
  {
   "cell_type": "markdown",
   "metadata": {},
   "source": [
    "В 2174 строках из 21525 наблюдений доход пропущен."
   ]
  },
  {
   "cell_type": "code",
   "execution_count": 28,
   "metadata": {},
   "outputs": [
    {
     "data": {
      "text/html": [
       "<div>\n",
       "<style scoped>\n",
       "    .dataframe tbody tr th:only-of-type {\n",
       "        vertical-align: middle;\n",
       "    }\n",
       "\n",
       "    .dataframe tbody tr th {\n",
       "        vertical-align: top;\n",
       "    }\n",
       "\n",
       "    .dataframe thead th {\n",
       "        text-align: right;\n",
       "    }\n",
       "</style>\n",
       "<table border=\"1\" class=\"dataframe\">\n",
       "  <thead>\n",
       "    <tr style=\"text-align: right;\">\n",
       "      <th></th>\n",
       "      <th>monthly_income</th>\n",
       "    </tr>\n",
       "    <tr>\n",
       "      <th>employment_type</th>\n",
       "      <th></th>\n",
       "    </tr>\n",
       "  </thead>\n",
       "  <tbody>\n",
       "    <tr>\n",
       "      <th>безработный</th>\n",
       "      <td>131339.75</td>\n",
       "    </tr>\n",
       "    <tr>\n",
       "      <th>в декрете</th>\n",
       "      <td>53829.13</td>\n",
       "    </tr>\n",
       "    <tr>\n",
       "      <th>госслужащий</th>\n",
       "      <td>170898.31</td>\n",
       "    </tr>\n",
       "    <tr>\n",
       "      <th>компаньон</th>\n",
       "      <td>202417.46</td>\n",
       "    </tr>\n",
       "    <tr>\n",
       "      <th>пенсионер</th>\n",
       "      <td>137127.47</td>\n",
       "    </tr>\n",
       "  </tbody>\n",
       "</table>\n",
       "</div>"
      ],
      "text/plain": [
       "                 monthly_income\n",
       "employment_type                \n",
       "безработный           131339.75\n",
       "в декрете              53829.13\n",
       "госслужащий           170898.31\n",
       "компаньон             202417.46\n",
       "пенсионер             137127.47"
      ]
     },
     "execution_count": 28,
     "metadata": {},
     "output_type": "execute_result"
    }
   ],
   "source": [
    "# Создаю переменную 'mean_monthly_income' и группирую таблицу по столбцу 'employment_type',\n",
    "# чтобы посчитать среднее значение monthly_income по типу занятости. \n",
    "# Потом заменим пропуски на средние число методом fillna().\n",
    "\n",
    "mean_monthly_income = df.groupby('employment_type').agg({'monthly_income':'mean'})\n",
    " \n",
    "for employment_type in mean_monthly_income.index:\n",
    "    df.loc[df['employment_type'] == employment_type,'monthly_income'] = df \\\n",
    "      .loc[df['employment_type'] == employment_type,'monthly_income'] \\\n",
    "      .fillna(mean_monthly_income.loc[employment_type, 'monthly_income'])\n",
    "\n",
    "mean_monthly_income.head()"
   ]
  },
  {
   "cell_type": "markdown",
   "metadata": {},
   "source": [
    "После этой операции нужно убедиться, что таблица больше не содержит пропусков."
   ]
  },
  {
   "cell_type": "code",
   "execution_count": 29,
   "metadata": {},
   "outputs": [
    {
     "data": {
      "text/plain": [
       "number_of_children    0\n",
       "days_employed         0\n",
       "client_age            0\n",
       "education_level       0\n",
       "education_level_id    0\n",
       "family_status         0\n",
       "family_status_id      0\n",
       "gender                0\n",
       "employment_type       0\n",
       "debt                  0\n",
       "monthly_income        0\n",
       "credit_purpose        0\n",
       "dtype: int64"
      ]
     },
     "execution_count": 29,
     "metadata": {},
     "output_type": "execute_result"
    }
   ],
   "source": [
    "# Проверим замену.\n",
    "df.isnull().sum()"
   ]
  },
  {
   "cell_type": "code",
   "execution_count": 30,
   "metadata": {},
   "outputs": [
    {
     "data": {
      "text/plain": [
       "count     21525.00\n",
       "mean     167395.92\n",
       "std       97906.95\n",
       "min       20667.26\n",
       "25%      107798.17\n",
       "50%      151931.33\n",
       "75%      202417.46\n",
       "max     2265604.03\n",
       "Name: monthly_income, dtype: float64"
      ]
     },
     "execution_count": 30,
     "metadata": {},
     "output_type": "execute_result"
    }
   ],
   "source": [
    "# Выведем статистику по ежемесячному доходу методом describe():\n",
    "df['monthly_income'].describe()"
   ]
  },
  {
   "cell_type": "markdown",
   "metadata": {},
   "source": [
    "На этапе осмотра данных обнаружили большое количество пропущенных значений, пустые значения свидетельствуют о том, что доступна не вся информация. Возможно были проблемы с записью данных. Так как данные отсутствуют и имеем дело с количественными переменными, то заменили пропуски на среднее арифметическое, чтобы примерно оценить типичные значения для каждой выборки, с учетом факторов влияющие на эти значения."
   ]
  },
  {
   "cell_type": "markdown",
   "metadata": {},
   "source": [
    "### 2.3. Замена типа данных"
   ]
  },
  {
   "cell_type": "markdown",
   "metadata": {},
   "source": [
    "Вещественный тип данных необходимо привести к целочисленным значениям. Методом astype() с аргументом ('int') переведем значения с плавающей точкой в целое число."
   ]
  },
  {
   "cell_type": "code",
   "execution_count": 31,
   "metadata": {},
   "outputs": [],
   "source": [
    "# Вызовем метод astype() с аргументом 'int'. \n",
    "df['days_employed'] = df['days_employed'].astype(np.int64)\n",
    "df['monthly_income'] = df['monthly_income'].astype(np.int64)"
   ]
  },
  {
   "cell_type": "code",
   "execution_count": 32,
   "metadata": {},
   "outputs": [],
   "source": [
    "# Также для удобства переведем общий трудовой стаж в года, добавив новый столбец. За один год считается период в 360 дней. \n",
    "df['years_employed'] = df['days_employed'] / 360 # значения в днях переведем в года\n",
    "df['years_employed'] = df['years_employed'].astype(np.int64) # переведем значения с плавающей точкой в целое число"
   ]
  },
  {
   "cell_type": "code",
   "execution_count": 33,
   "metadata": {},
   "outputs": [
    {
     "name": "stdout",
     "output_type": "stream",
     "text": [
      "<class 'pandas.core.frame.DataFrame'>\n",
      "RangeIndex: 21525 entries, 0 to 21524\n",
      "Data columns (total 13 columns):\n",
      " #   Column              Non-Null Count  Dtype \n",
      "---  ------              --------------  ----- \n",
      " 0   number_of_children  21525 non-null  int64 \n",
      " 1   days_employed       21525 non-null  int64 \n",
      " 2   client_age          21525 non-null  int64 \n",
      " 3   education_level     21525 non-null  object\n",
      " 4   education_level_id  21525 non-null  int64 \n",
      " 5   family_status       21525 non-null  object\n",
      " 6   family_status_id    21525 non-null  int64 \n",
      " 7   gender              21525 non-null  object\n",
      " 8   employment_type     21525 non-null  object\n",
      " 9   debt                21525 non-null  int64 \n",
      " 10  monthly_income      21525 non-null  int64 \n",
      " 11  credit_purpose      21525 non-null  object\n",
      " 12  years_employed      21525 non-null  int64 \n",
      "dtypes: int64(8), object(5)\n",
      "memory usage: 2.1+ MB\n"
     ]
    }
   ],
   "source": [
    "df.info() # Получение общей информации о данных в таблице df. Применим к таблице df метод info()."
   ]
  },
  {
   "cell_type": "markdown",
   "metadata": {},
   "source": [
    "По данной информации о таблице df видим, что с количеством наблюдений все в порядке их 21525 во всех столбцах. Мы разобрались с отрицательными значениями и изменили их тип, из вещественных сделали целыми, методами, которые описаны в процессе предобработки. "
   ]
  },
  {
   "cell_type": "markdown",
   "metadata": {},
   "source": [
    "### 2.4. Преобразование строки в нижний регистр"
   ]
  },
  {
   "cell_type": "markdown",
   "metadata": {},
   "source": [
    "Уровень образования влияет на получение кредита. Давайте рассмотрим столбец 'education_level'."
   ]
  },
  {
   "cell_type": "code",
   "execution_count": 34,
   "metadata": {},
   "outputs": [
    {
     "data": {
      "text/plain": [
       "среднее                13750\n",
       "высшее                  4718\n",
       "СРЕДНЕЕ                  772\n",
       "Среднее                  711\n",
       "неоконченное высшее      668\n",
       "ВЫСШЕЕ                   274\n",
       "Высшее                   268\n",
       "начальное                250\n",
       "Неоконченное высшее       47\n",
       "НЕОКОНЧЕННОЕ ВЫСШЕЕ       29\n",
       "НАЧАЛЬНОЕ                 17\n",
       "Начальное                 15\n",
       "ученая степень             4\n",
       "УЧЕНАЯ СТЕПЕНЬ             1\n",
       "Ученая степень             1\n",
       "Name: education_level, dtype: int64"
      ]
     },
     "execution_count": 34,
     "metadata": {},
     "output_type": "execute_result"
    }
   ],
   "source": [
    "# Вызовем к столбцу 'education_level' метод value_counts().\n",
    "df['education_level'].value_counts()"
   ]
  },
  {
   "cell_type": "code",
   "execution_count": 35,
   "metadata": {},
   "outputs": [
    {
     "data": {
      "text/plain": [
       "среднее                15233\n",
       "высшее                  5260\n",
       "неоконченное высшее      744\n",
       "начальное                282\n",
       "ученая степень             6\n",
       "Name: education_level, dtype: int64"
      ]
     },
     "execution_count": 35,
     "metadata": {},
     "output_type": "execute_result"
    }
   ],
   "source": [
    "# Приведем строки к нижнему регистру.\n",
    "df['education_level'] = df['education_level'].str.lower()\n",
    "\n",
    "# Проверим результат.\n",
    "df['education_level'].value_counts()"
   ]
  },
  {
   "cell_type": "code",
   "execution_count": 36,
   "metadata": {},
   "outputs": [
    {
     "data": {
      "text/plain": [
       "1    15233\n",
       "0     5260\n",
       "2      744\n",
       "3      282\n",
       "4        6\n",
       "Name: education_level_id, dtype: int64"
      ]
     },
     "execution_count": 36,
     "metadata": {},
     "output_type": "execute_result"
    }
   ],
   "source": [
    "# Вызовем к столбцу 'education_level_id' метод value_counts().\n",
    "df['education_level_id'].value_counts()"
   ]
  },
  {
   "cell_type": "markdown",
   "metadata": {},
   "source": [
    "**Посмотрим семейное положение, так как оно также влияет на возможность получения кредита. Рассмотрим столбец 'family_status'.**"
   ]
  },
  {
   "cell_type": "code",
   "execution_count": 37,
   "metadata": {},
   "outputs": [
    {
     "data": {
      "text/plain": [
       "женат / замужем          12380\n",
       "гражданский брак          4177\n",
       "Не женат / не замужем     2813\n",
       "в разводе                 1195\n",
       "вдовец / вдова             960\n",
       "Name: family_status, dtype: int64"
      ]
     },
     "execution_count": 37,
     "metadata": {},
     "output_type": "execute_result"
    }
   ],
   "source": [
    "# Вызовем к столбцу 'family_status' метод value_counts().\n",
    "df['family_status'].value_counts()"
   ]
  },
  {
   "cell_type": "code",
   "execution_count": 38,
   "metadata": {},
   "outputs": [
    {
     "data": {
      "text/plain": [
       "женат / замужем          12380\n",
       "гражданский брак          4177\n",
       "не женат / не замужем     2813\n",
       "в разводе                 1195\n",
       "вдовец / вдова             960\n",
       "Name: family_status, dtype: int64"
      ]
     },
     "execution_count": 38,
     "metadata": {},
     "output_type": "execute_result"
    }
   ],
   "source": [
    "# Приведем строки к нижнему регистру.\n",
    "df['family_status'] = df['family_status'].str.lower()\n",
    "\n",
    "# Проверим результат.\n",
    "df['family_status'].value_counts()"
   ]
  },
  {
   "cell_type": "code",
   "execution_count": 39,
   "metadata": {},
   "outputs": [
    {
     "data": {
      "text/plain": [
       "0    12380\n",
       "1     4177\n",
       "4     2813\n",
       "3     1195\n",
       "2      960\n",
       "Name: family_status_id, dtype: int64"
      ]
     },
     "execution_count": 39,
     "metadata": {},
     "output_type": "execute_result"
    }
   ],
   "source": [
    "# Вызовем к столбцу 'family_status_id' метод value_counts().\n",
    "df['family_status_id'].value_counts()"
   ]
  },
  {
   "cell_type": "code",
   "execution_count": 40,
   "metadata": {},
   "outputs": [
    {
     "data": {
      "text/plain": [
       "сотрудник          11119\n",
       "компаньон           5085\n",
       "пенсионер           3856\n",
       "госслужащий         1459\n",
       "предприниматель        2\n",
       "безработный            2\n",
       "студент                1\n",
       "в декрете              1\n",
       "Name: employment_type, dtype: int64"
      ]
     },
     "execution_count": 40,
     "metadata": {},
     "output_type": "execute_result"
    }
   ],
   "source": [
    "# Вызовем к столбцу 'employment_type' метод value_counts().\n",
    "df['employment_type'].value_counts()"
   ]
  },
  {
   "cell_type": "code",
   "execution_count": 41,
   "metadata": {},
   "outputs": [
    {
     "data": {
      "text/plain": [
       "F      14236\n",
       "M       7288\n",
       "XNA        1\n",
       "Name: gender, dtype: int64"
      ]
     },
     "execution_count": 41,
     "metadata": {},
     "output_type": "execute_result"
    }
   ],
   "source": [
    "# Теперь к столбцу 'gender' метод value_counts().\n",
    "df['gender'].value_counts()"
   ]
  },
  {
   "cell_type": "markdown",
   "metadata": {},
   "source": [
    "Наблюдение: в переменной 'пол клиента' присутствует один необычный обьект XNA."
   ]
  },
  {
   "cell_type": "code",
   "execution_count": 42,
   "metadata": {},
   "outputs": [],
   "source": [
    "df = df[df['gender'] != 'XNA'] # удалим эту строку"
   ]
  },
  {
   "cell_type": "markdown",
   "metadata": {},
   "source": [
    "### 2.5. Обработка дубликатов"
   ]
  },
  {
   "cell_type": "markdown",
   "metadata": {},
   "source": [
    "Необходимо установить наличие дубликатов. Если найдутся, удаляем, и проверяем, все ли удалились."
   ]
  },
  {
   "cell_type": "code",
   "execution_count": 43,
   "metadata": {},
   "outputs": [
    {
     "data": {
      "text/plain": [
       "71"
      ]
     },
     "execution_count": 43,
     "metadata": {},
     "output_type": "execute_result"
    }
   ],
   "source": [
    "# Получение суммарного количества дубликатов в таблице df.\n",
    "df.duplicated().sum()"
   ]
  },
  {
   "cell_type": "code",
   "execution_count": 44,
   "metadata": {},
   "outputs": [],
   "source": [
    "# Удаление всех дубликатов из таблицы df специальным методом.\n",
    "df = df.drop_duplicates().reset_index(drop=True)"
   ]
  },
  {
   "cell_type": "code",
   "execution_count": 45,
   "metadata": {},
   "outputs": [
    {
     "data": {
      "text/plain": [
       "0"
      ]
     },
     "execution_count": 45,
     "metadata": {},
     "output_type": "execute_result"
    }
   ],
   "source": [
    "#Проверка на отсутствие.\n",
    "df.duplicated().sum()"
   ]
  },
  {
   "cell_type": "code",
   "execution_count": 46,
   "metadata": {},
   "outputs": [
    {
     "name": "stdout",
     "output_type": "stream",
     "text": [
      "<class 'pandas.core.frame.DataFrame'>\n",
      "RangeIndex: 21453 entries, 0 to 21452\n",
      "Data columns (total 13 columns):\n",
      " #   Column              Non-Null Count  Dtype \n",
      "---  ------              --------------  ----- \n",
      " 0   number_of_children  21453 non-null  int64 \n",
      " 1   days_employed       21453 non-null  int64 \n",
      " 2   client_age          21453 non-null  int64 \n",
      " 3   education_level     21453 non-null  object\n",
      " 4   education_level_id  21453 non-null  int64 \n",
      " 5   family_status       21453 non-null  object\n",
      " 6   family_status_id    21453 non-null  int64 \n",
      " 7   gender              21453 non-null  object\n",
      " 8   employment_type     21453 non-null  object\n",
      " 9   debt                21453 non-null  int64 \n",
      " 10  monthly_income      21453 non-null  int64 \n",
      " 11  credit_purpose      21453 non-null  object\n",
      " 12  years_employed      21453 non-null  int64 \n",
      "dtypes: int64(8), object(5)\n",
      "memory usage: 2.1+ MB\n"
     ]
    }
   ],
   "source": [
    "df.info()"
   ]
  },
  {
   "cell_type": "markdown",
   "metadata": {},
   "source": [
    "Строки-дубликаты могут появиться по разным причинам. Возможно они появились вследствие сбоя в записи данных. Так как дубликаты могут ошибочно повлиять на оценку способности заёмщика вернуть кредит банку, их лучше удалить. Для удаления дубликатов мы использовали метод drop_duplicates(), и соединили в цепочку с вызовом метода reset_index(). Таким образом создали новый DataFrame, где старые индексы превращаются в обычный столбец под названием index, а индексы всех строк снова следуют в естественном порядке. Устранили дубликаты с учётом регистра."
   ]
  },
  {
   "cell_type": "markdown",
   "metadata": {},
   "source": [
    "### 2.6. Лемматизация"
   ]
  },
  {
   "cell_type": "markdown",
   "metadata": {},
   "source": [
    "Выделим леммы в значениях столбца с целями получения кредита. "
   ]
  },
  {
   "cell_type": "code",
   "execution_count": 47,
   "metadata": {
    "scrolled": false
   },
   "outputs": [
    {
     "data": {
      "text/plain": [
       "array(['покупка жилья', 'приобретение автомобиля',\n",
       "       'дополнительное образование', 'сыграть свадьбу',\n",
       "       'операции с жильем', 'образование', 'на проведение свадьбы',\n",
       "       'покупка жилья для семьи', 'покупка недвижимости',\n",
       "       'покупка коммерческой недвижимости', 'покупка жилой недвижимости',\n",
       "       'строительство собственной недвижимости', 'недвижимость',\n",
       "       'строительство недвижимости', 'на покупку подержанного автомобиля',\n",
       "       'на покупку своего автомобиля',\n",
       "       'операции с коммерческой недвижимостью',\n",
       "       'строительство жилой недвижимости', 'жилье',\n",
       "       'операции со своей недвижимостью', 'автомобили',\n",
       "       'заняться образованием', 'сделка с подержанным автомобилем',\n",
       "       'получение образования', 'автомобиль', 'свадьба',\n",
       "       'получение дополнительного образования', 'покупка своего жилья',\n",
       "       'операции с недвижимостью', 'получение высшего образования',\n",
       "       'свой автомобиль', 'сделка с автомобилем',\n",
       "       'профильное образование', 'высшее образование',\n",
       "       'покупка жилья для сдачи', 'на покупку автомобиля', 'ремонт жилью',\n",
       "       'заняться высшим образованием'], dtype=object)"
      ]
     },
     "execution_count": 47,
     "metadata": {},
     "output_type": "execute_result"
    }
   ],
   "source": [
    "# Посмотрим уникальные значения столбца 'credit_purpose', используя метод unique().\n",
    "unique_credit_purposes = df['credit_purpose'].unique() # сохраным результат в переменной unique_credit_purposes\n",
    "unique_credit_purposes"
   ]
  },
  {
   "cell_type": "code",
   "execution_count": 48,
   "metadata": {
    "scrolled": true
   },
   "outputs": [
    {
     "data": {
      "text/plain": [
       "'покупка жилья; приобретение автомобиля; дополнительное образование; сыграть свадьбу; операции с жильем; образование; на проведение свадьбы; покупка жилья для семьи; покупка недвижимости; покупка коммерческой недвижимости; покупка жилой недвижимости; строительство собственной недвижимости; недвижимость; строительство недвижимости; на покупку подержанного автомобиля; на покупку своего автомобиля; операции с коммерческой недвижимостью; строительство жилой недвижимости; жилье; операции со своей недвижимостью; автомобили; заняться образованием; сделка с подержанным автомобилем; получение образования; автомобиль; свадьба; получение дополнительного образования; покупка своего жилья; операции с недвижимостью; получение высшего образования; свой автомобиль; сделка с автомобилем; профильное образование; высшее образование; покупка жилья для сдачи; на покупку автомобиля; ремонт жилью; заняться высшим образованием'"
      ]
     },
     "execution_count": 48,
     "metadata": {},
     "output_type": "execute_result"
    }
   ],
   "source": [
    "m = Mystem()\n",
    "# Обратите внимание, что Pymystem3 по умолчанию выдает список лемматизированных слов. \n",
    "# Поэтому здесь для наглядности результат склеили вызовом метода join(). \n",
    "string = '; '.join(unique_credit_purposes) # сохраным результат в переменной string (строка)\n",
    "string"
   ]
  },
  {
   "cell_type": "code",
   "execution_count": 49,
   "metadata": {},
   "outputs": [
    {
     "data": {
      "text/plain": [
       "Counter({'покупка': 10,\n",
       "         ' ': 59,\n",
       "         'жилье': 7,\n",
       "         '; ': 37,\n",
       "         'приобретение': 1,\n",
       "         'автомобиль': 9,\n",
       "         'дополнительный': 2,\n",
       "         'образование': 9,\n",
       "         'сыграть': 1,\n",
       "         'свадьба': 3,\n",
       "         'операция': 4,\n",
       "         'с': 5,\n",
       "         'на': 4,\n",
       "         'проведение': 1,\n",
       "         'для': 2,\n",
       "         'семья': 1,\n",
       "         'недвижимость': 10,\n",
       "         'коммерческий': 2,\n",
       "         'жилой': 2,\n",
       "         'строительство': 3,\n",
       "         'собственный': 1,\n",
       "         'подержать': 2,\n",
       "         'свой': 4,\n",
       "         'со': 1,\n",
       "         'заниматься': 2,\n",
       "         'сделка': 2,\n",
       "         'получение': 3,\n",
       "         'высокий': 3,\n",
       "         'профильный': 1,\n",
       "         'сдача': 1,\n",
       "         'ремонт': 1,\n",
       "         '\\n': 1})"
      ]
     },
     "execution_count": 49,
     "metadata": {},
     "output_type": "execute_result"
    }
   ],
   "source": [
    "lemmas = m.lemmatize(string) # сохраным результат в переменной lemmas\n",
    "Counter(lemmas) # посчитаем количество упоминаний, вызовом Counter из модуля collections"
   ]
  },
  {
   "cell_type": "markdown",
   "metadata": {},
   "source": [
    "По полученным результатам видно, что самые упомянутые леммы, в значениях столбца с целями получения кредита, это `недвижимость, автомобиль, образование и свадьба. `"
   ]
  },
  {
   "cell_type": "markdown",
   "metadata": {},
   "source": [
    "### 2.7. Категоризация данных"
   ]
  },
  {
   "cell_type": "markdown",
   "metadata": {},
   "source": [
    "**Категоризация целей кредита.**"
   ]
  },
  {
   "cell_type": "code",
   "execution_count": 50,
   "metadata": {},
   "outputs": [],
   "source": [
    "# Напишем функцию для более точного отображения целей кредита.\n",
    "\n",
    "def credit_purpose_category(credit_purpose):\n",
    "    if 'образован' in credit_purpose:\n",
    "        return 'образование'\n",
    "    if 'авто' in credit_purpose:\n",
    "        return 'автомобиль'\n",
    "    if 'свадь' in credit_purpose:\n",
    "        return 'свадьба'\n",
    "    if 'жиль' or 'недв' in credit_purpose:\n",
    "        return 'недвижимость'\n",
    "    return 'ошибка классификации'"
   ]
  },
  {
   "cell_type": "code",
   "execution_count": 51,
   "metadata": {},
   "outputs": [
    {
     "data": {
      "text/plain": [
       "недвижимость    10810\n",
       "автомобиль       4306\n",
       "образование      4013\n",
       "свадьба          2324\n",
       "Name: credit_purpose_category, dtype: int64"
      ]
     },
     "execution_count": 51,
     "metadata": {},
     "output_type": "execute_result"
    }
   ],
   "source": [
    "# Осталось создать отдельный столбец с категориями по целям кредита, и в его ячейках записать значения, возвращаемые функцией.\n",
    "df['credit_purpose_category'] = df['credit_purpose'].apply(credit_purpose_category)\n",
    "\n",
    "# Выведем статистику по категориям целей кредита методом value_counts():\n",
    "df['credit_purpose_category'].value_counts()"
   ]
  },
  {
   "cell_type": "code",
   "execution_count": 52,
   "metadata": {},
   "outputs": [
    {
     "data": {
      "text/plain": [
       "'недвижимость'"
      ]
     },
     "execution_count": 52,
     "metadata": {},
     "output_type": "execute_result"
    }
   ],
   "source": [
    "# Проверим, в какую категорию попадёт 'жилье':\n",
    "credit_purpose_category('жилье')"
   ]
  },
  {
   "cell_type": "code",
   "execution_count": 53,
   "metadata": {},
   "outputs": [
    {
     "data": {
      "text/plain": [
       "'автомобиль'"
      ]
     },
     "execution_count": 53,
     "metadata": {},
     "output_type": "execute_result"
    }
   ],
   "source": [
    "# Проверим, в какую категорию попадёт 'сделка с подержанным автомобилем':\n",
    "credit_purpose_category('сделка с подержанным автомобилем')"
   ]
  },
  {
   "cell_type": "code",
   "execution_count": 54,
   "metadata": {},
   "outputs": [
    {
     "data": {
      "text/plain": [
       "'свадьба'"
      ]
     },
     "execution_count": 54,
     "metadata": {},
     "output_type": "execute_result"
    }
   ],
   "source": [
    "# Проверим, в какую категорию попадёт 'сыграть свадьбу':\n",
    "credit_purpose_category('сыграть свадьбу')"
   ]
  },
  {
   "cell_type": "code",
   "execution_count": 55,
   "metadata": {},
   "outputs": [
    {
     "data": {
      "text/plain": [
       "'образование'"
      ]
     },
     "execution_count": 55,
     "metadata": {},
     "output_type": "execute_result"
    }
   ],
   "source": [
    "# Проверим, в какую категорию попадёт 'профильное образование':\n",
    "credit_purpose_category('профильное образование')"
   ]
  },
  {
   "cell_type": "markdown",
   "metadata": {},
   "source": [
    "**Возраст клиента одно из условий для оформления кредита, он составляет от 18 до 65 лет.** \n",
    "\n",
    "Объединим данные в категории, распределим клиентов так:\n",
    "\n",
    " - Клиенты младше 18 лет попадают в категорию «дети»;\n",
    " - Клиенты от 18 до 65 лет — категория «взрослые»;\n",
    " - Клиенты старше 66 лет принадлежат к категории «пенсионеры»."
   ]
  },
  {
   "cell_type": "code",
   "execution_count": 56,
   "metadata": {},
   "outputs": [],
   "source": [
    "# Запишем правила классификации клиентов как функции.\n",
    "# На вход функции попадает возраст, а возвращает она категорию клиента. \n",
    "\n",
    "def client_age_group(client_age):\n",
    "    if client_age < 18:\n",
    "        return 'дети'\n",
    "    if client_age <= 65:\n",
    "        return 'взрослые'\n",
    "    return 'пенсионеры' "
   ]
  },
  {
   "cell_type": "code",
   "execution_count": 57,
   "metadata": {},
   "outputs": [
    {
     "data": {
      "text/plain": [
       "count        21453\n",
       "unique           2\n",
       "top       взрослые\n",
       "freq         20751\n",
       "Name: client_age_group, dtype: object"
      ]
     },
     "execution_count": 57,
     "metadata": {},
     "output_type": "execute_result"
    }
   ],
   "source": [
    "# Осталось создать отдельный столбец с возрастными категориями, и в его ячейках записать значения, возвращаемые функцией.\n",
    "df['client_age_group'] = df['client_age'].apply(client_age_group)\n",
    "\n",
    "# Выведем статистику по возрастной группе методом describe():\n",
    "df['client_age_group'].describe()"
   ]
  },
  {
   "cell_type": "code",
   "execution_count": 58,
   "metadata": {},
   "outputs": [
    {
     "data": {
      "text/plain": [
       "'дети'"
      ]
     },
     "execution_count": 58,
     "metadata": {},
     "output_type": "execute_result"
    }
   ],
   "source": [
    "# Проверим, в какую категорию попадёт четырнадцатилетний клиент:\n",
    "client_age_group(14)"
   ]
  },
  {
   "cell_type": "code",
   "execution_count": 59,
   "metadata": {},
   "outputs": [
    {
     "data": {
      "text/plain": [
       "'взрослые'"
      ]
     },
     "execution_count": 59,
     "metadata": {},
     "output_type": "execute_result"
    }
   ],
   "source": [
    "#B какую категорию попадёт сорокалетний клиент:\n",
    "client_age_group(40)"
   ]
  },
  {
   "cell_type": "code",
   "execution_count": 60,
   "metadata": {},
   "outputs": [
    {
     "data": {
      "text/plain": [
       "'пенсионеры'"
      ]
     },
     "execution_count": 60,
     "metadata": {},
     "output_type": "execute_result"
    }
   ],
   "source": [
    "#B какую категорию попадёт семидесятилетний клиент:\n",
    "client_age_group(70)"
   ]
  },
  {
   "cell_type": "markdown",
   "metadata": {},
   "source": [
    "**Банку важна платежеспособность клиента, давайте рассмотрим, что у нас с ежемесячным доходом.**"
   ]
  },
  {
   "cell_type": "code",
   "execution_count": 61,
   "metadata": {},
   "outputs": [
    {
     "data": {
      "text/plain": [
       "161380    1071\n",
       "202417     501\n",
       "137127     386\n",
       "170898     145\n",
       "138071       3\n",
       "          ... \n",
       "101387       1\n",
       "138249       1\n",
       "280240       1\n",
       "390148       1\n",
       "264193       1\n",
       "Name: monthly_income, Length: 18608, dtype: int64"
      ]
     },
     "execution_count": 61,
     "metadata": {},
     "output_type": "execute_result"
    }
   ],
   "source": [
    "# Выведем статистику по ежемесячному доходу методом value_counts():\n",
    "df['monthly_income'].value_counts()"
   ]
  },
  {
   "cell_type": "markdown",
   "metadata": {},
   "source": [
    "Сгруппируем данные в 3 категории по уровню дохода:\n",
    "- доход меньше 80.000 рублей попадает в категорию «низкий уровень дохода»;\n",
    "- доход от 80.000 до 180.000 рублей — категория «средний уровень дохода»;\n",
    "- доход выше 180.000 рублей — категория «высокий уровень дохода»."
   ]
  },
  {
   "cell_type": "code",
   "execution_count": 62,
   "metadata": {},
   "outputs": [],
   "source": [
    "def level_of_income(monthly_income):\n",
    "    if monthly_income < 80000:\n",
    "            return 'низкий уровень дохода'\n",
    "    if monthly_income < 180000:\n",
    "            return 'средний уровень дохода'\n",
    "    return 'высокий уровень дохода'"
   ]
  },
  {
   "cell_type": "code",
   "execution_count": 63,
   "metadata": {},
   "outputs": [
    {
     "data": {
      "text/plain": [
       "count                      21453\n",
       "unique                         3\n",
       "top       средний уровень дохода\n",
       "freq                       12254\n",
       "Name: level_of_income, dtype: object"
      ]
     },
     "execution_count": 63,
     "metadata": {},
     "output_type": "execute_result"
    }
   ],
   "source": [
    "# Создадим отдельный столбец с категориями уровня дохода, и в его ячейках запишем значения, возвращаемые функцией.\n",
    "df['level_of_income'] = df['monthly_income'].apply(level_of_income)\n",
    "\n",
    "# Выведем статистику по категориям уровня дохода методом describe():\n",
    "df['level_of_income'].describe()"
   ]
  },
  {
   "cell_type": "code",
   "execution_count": 64,
   "metadata": {},
   "outputs": [
    {
     "data": {
      "text/plain": [
       "'низкий уровень дохода'"
      ]
     },
     "execution_count": 64,
     "metadata": {},
     "output_type": "execute_result"
    }
   ],
   "source": [
    "#Проверим, в какую категорию попадёт доход в 45.000 рублей:\n",
    "level_of_income(45000)"
   ]
  },
  {
   "cell_type": "code",
   "execution_count": 65,
   "metadata": {},
   "outputs": [
    {
     "data": {
      "text/plain": [
       "'средний уровень дохода'"
      ]
     },
     "execution_count": 65,
     "metadata": {},
     "output_type": "execute_result"
    }
   ],
   "source": [
    "#Проверим, в какую категорию попадёт доход в 130.000 рублей:\n",
    "level_of_income(130000)"
   ]
  },
  {
   "cell_type": "code",
   "execution_count": 66,
   "metadata": {},
   "outputs": [
    {
     "data": {
      "text/plain": [
       "'высокий уровень дохода'"
      ]
     },
     "execution_count": 66,
     "metadata": {},
     "output_type": "execute_result"
    }
   ],
   "source": [
    "#Проверим, в какую категорию попадёт доход в 198.000 рублей:\n",
    "level_of_income(198000)"
   ]
  },
  {
   "cell_type": "code",
   "execution_count": 67,
   "metadata": {},
   "outputs": [
    {
     "name": "stdout",
     "output_type": "stream",
     "text": [
      "<class 'pandas.core.frame.DataFrame'>\n",
      "RangeIndex: 21453 entries, 0 to 21452\n",
      "Data columns (total 16 columns):\n",
      " #   Column                   Non-Null Count  Dtype \n",
      "---  ------                   --------------  ----- \n",
      " 0   number_of_children       21453 non-null  int64 \n",
      " 1   days_employed            21453 non-null  int64 \n",
      " 2   client_age               21453 non-null  int64 \n",
      " 3   education_level          21453 non-null  object\n",
      " 4   education_level_id       21453 non-null  int64 \n",
      " 5   family_status            21453 non-null  object\n",
      " 6   family_status_id         21453 non-null  int64 \n",
      " 7   gender                   21453 non-null  object\n",
      " 8   employment_type          21453 non-null  object\n",
      " 9   debt                     21453 non-null  int64 \n",
      " 10  monthly_income           21453 non-null  int64 \n",
      " 11  credit_purpose           21453 non-null  object\n",
      " 12  years_employed           21453 non-null  int64 \n",
      " 13  credit_purpose_category  21453 non-null  object\n",
      " 14  client_age_group         21453 non-null  object\n",
      " 15  level_of_income          21453 non-null  object\n",
      "dtypes: int64(8), object(8)\n",
      "memory usage: 2.6+ MB\n"
     ]
    }
   ],
   "source": [
    "df.info()"
   ]
  },
  {
   "cell_type": "markdown",
   "metadata": {},
   "source": [
    "### 2.8. Вывод"
   ]
  },
  {
   "cell_type": "markdown",
   "metadata": {},
   "source": [
    "Вывели статистику по возрастной группе клиентов банка, по уровню дохода и целей кредита. Получили количество потенциальных заемщиком, которое составляет 20767 клиентов. И только 17075 клиента со средним и высоким уровнем доходов. С этими данными можно работать."
   ]
  },
  {
   "cell_type": "markdown",
   "metadata": {},
   "source": [
    "Проверили все переменные на ошибки. Поработали с пропусками. Решили проблему с аномальными значениями. Удалили дубликаты. Вещественный тип данных привели к целочисленным значениям. Выделили леммы. Объединили данные в категории. Теперь данные годятся для анализа."
   ]
  },
  {
   "cell_type": "markdown",
   "metadata": {},
   "source": [
    "## Шаг 3. Ответы на вопросы"
   ]
  },
  {
   "cell_type": "markdown",
   "metadata": {},
   "source": [
    "### 3.1. Есть ли зависимость между наличием детей и возвратом кредита в срок?"
   ]
  },
  {
   "cell_type": "code",
   "execution_count": 68,
   "metadata": {},
   "outputs": [
    {
     "data": {
      "text/html": [
       "<div>\n",
       "<style scoped>\n",
       "    .dataframe tbody tr th:only-of-type {\n",
       "        vertical-align: middle;\n",
       "    }\n",
       "\n",
       "    .dataframe tbody tr th {\n",
       "        vertical-align: top;\n",
       "    }\n",
       "\n",
       "    .dataframe thead tr th {\n",
       "        text-align: left;\n",
       "    }\n",
       "\n",
       "    .dataframe thead tr:last-of-type th {\n",
       "        text-align: right;\n",
       "    }\n",
       "</style>\n",
       "<table border=\"1\" class=\"dataframe\">\n",
       "  <thead>\n",
       "    <tr>\n",
       "      <th></th>\n",
       "      <th>count</th>\n",
       "      <th>sum</th>\n",
       "      <th>mean</th>\n",
       "      <th>ratio</th>\n",
       "    </tr>\n",
       "    <tr>\n",
       "      <th></th>\n",
       "      <th>debt</th>\n",
       "      <th>debt</th>\n",
       "      <th>debt</th>\n",
       "      <th></th>\n",
       "    </tr>\n",
       "    <tr>\n",
       "      <th>number_of_children</th>\n",
       "      <th></th>\n",
       "      <th></th>\n",
       "      <th></th>\n",
       "      <th></th>\n",
       "    </tr>\n",
       "  </thead>\n",
       "  <tbody>\n",
       "    <tr>\n",
       "      <th>0</th>\n",
       "      <td>14090</td>\n",
       "      <td>1063</td>\n",
       "      <td>0.08</td>\n",
       "      <td>7.5%</td>\n",
       "    </tr>\n",
       "    <tr>\n",
       "      <th>1</th>\n",
       "      <td>4855</td>\n",
       "      <td>445</td>\n",
       "      <td>0.09</td>\n",
       "      <td>9.2%</td>\n",
       "    </tr>\n",
       "    <tr>\n",
       "      <th>2</th>\n",
       "      <td>2128</td>\n",
       "      <td>202</td>\n",
       "      <td>0.09</td>\n",
       "      <td>9.5%</td>\n",
       "    </tr>\n",
       "    <tr>\n",
       "      <th>3</th>\n",
       "      <td>330</td>\n",
       "      <td>27</td>\n",
       "      <td>0.08</td>\n",
       "      <td>8.2%</td>\n",
       "    </tr>\n",
       "    <tr>\n",
       "      <th>4</th>\n",
       "      <td>41</td>\n",
       "      <td>4</td>\n",
       "      <td>0.10</td>\n",
       "      <td>9.8%</td>\n",
       "    </tr>\n",
       "    <tr>\n",
       "      <th>5</th>\n",
       "      <td>9</td>\n",
       "      <td>0</td>\n",
       "      <td>0.00</td>\n",
       "      <td>0.0%</td>\n",
       "    </tr>\n",
       "  </tbody>\n",
       "</table>\n",
       "</div>"
      ],
      "text/plain": [
       "                    count   sum mean ratio\n",
       "                     debt  debt debt      \n",
       "number_of_children                        \n",
       "0                   14090  1063 0.08  7.5%\n",
       "1                    4855   445 0.09  9.2%\n",
       "2                    2128   202 0.09  9.5%\n",
       "3                     330    27 0.08  8.2%\n",
       "4                      41     4 0.10  9.8%\n",
       "5                       9     0 0.00  0.0%"
      ]
     },
     "execution_count": 68,
     "metadata": {},
     "output_type": "execute_result"
    }
   ],
   "source": [
    "# Для сравнения наблюдений будем использовать метод свободных таблиц pivot_table().\n",
    "# Аргументы метода:\n",
    "    # index — столбец или столбцы, по которым группируют данные \n",
    "    # values — значения, по которым мы хотим увидеть сводную таблицу \n",
    "    # aggfunc — функция, применяемая к значениям\n",
    "    \n",
    "# Результат сохраним в переменной number_of_children_pivot.    \n",
    "number_of_children_pivot = df.pivot_table(index = 'number_of_children', \n",
    "                                          values = 'debt', \n",
    "                                          aggfunc = ['count','sum','mean'])\n",
    "\n",
    "# Создадим в таблице number_of_children_pivot новый столбец 'ratio'. \n",
    "# Cохраним в нём значение отношения между наличием детей и возвратом кредита в срок.\n",
    "# Чем больше значение в столбце 'ratio' (уровень задолжности в %), тем хуже. \n",
    "\n",
    "number_of_children_pivot['ratio'] = (number_of_children_pivot['sum'] / number_of_children_pivot['count'] * 100)\\\n",
    "                                                                                            .round(1).astype('str') +'%'\n",
    "number_of_children_pivot"
   ]
  },
  {
   "cell_type": "markdown",
   "metadata": {},
   "source": [
    "По полученным результатам видно, что существует зависимость между наличием детей и возвратом кредита в срок. Клиенты с детьми возвращают кредит в срок хуже, чем без детей, возможно это связано с тем, что наличие детей налагает на клиента повышенные финансовые обязательства, тем самым понижая его платежеспособность."
   ]
  },
  {
   "cell_type": "markdown",
   "metadata": {},
   "source": [
    "### 3.2. Есть ли зависимость между семейным положением и возвратом кредита в срок?"
   ]
  },
  {
   "cell_type": "code",
   "execution_count": 69,
   "metadata": {},
   "outputs": [
    {
     "data": {
      "text/html": [
       "<div>\n",
       "<style scoped>\n",
       "    .dataframe tbody tr th:only-of-type {\n",
       "        vertical-align: middle;\n",
       "    }\n",
       "\n",
       "    .dataframe tbody tr th {\n",
       "        vertical-align: top;\n",
       "    }\n",
       "\n",
       "    .dataframe thead tr th {\n",
       "        text-align: left;\n",
       "    }\n",
       "\n",
       "    .dataframe thead tr:last-of-type th {\n",
       "        text-align: right;\n",
       "    }\n",
       "</style>\n",
       "<table border=\"1\" class=\"dataframe\">\n",
       "  <thead>\n",
       "    <tr>\n",
       "      <th></th>\n",
       "      <th>count</th>\n",
       "      <th>sum</th>\n",
       "      <th>mean</th>\n",
       "      <th>ratio</th>\n",
       "    </tr>\n",
       "    <tr>\n",
       "      <th></th>\n",
       "      <th>debt</th>\n",
       "      <th>debt</th>\n",
       "      <th>debt</th>\n",
       "      <th></th>\n",
       "    </tr>\n",
       "    <tr>\n",
       "      <th>family_status</th>\n",
       "      <th></th>\n",
       "      <th></th>\n",
       "      <th></th>\n",
       "      <th></th>\n",
       "    </tr>\n",
       "  </thead>\n",
       "  <tbody>\n",
       "    <tr>\n",
       "      <th>в разводе</th>\n",
       "      <td>1195</td>\n",
       "      <td>85</td>\n",
       "      <td>0.07</td>\n",
       "      <td>7.1%</td>\n",
       "    </tr>\n",
       "    <tr>\n",
       "      <th>вдовец / вдова</th>\n",
       "      <td>959</td>\n",
       "      <td>63</td>\n",
       "      <td>0.07</td>\n",
       "      <td>6.6%</td>\n",
       "    </tr>\n",
       "    <tr>\n",
       "      <th>гражданский брак</th>\n",
       "      <td>4150</td>\n",
       "      <td>388</td>\n",
       "      <td>0.09</td>\n",
       "      <td>9.3%</td>\n",
       "    </tr>\n",
       "    <tr>\n",
       "      <th>женат / замужем</th>\n",
       "      <td>12339</td>\n",
       "      <td>931</td>\n",
       "      <td>0.08</td>\n",
       "      <td>7.5%</td>\n",
       "    </tr>\n",
       "    <tr>\n",
       "      <th>не женат / не замужем</th>\n",
       "      <td>2810</td>\n",
       "      <td>274</td>\n",
       "      <td>0.10</td>\n",
       "      <td>9.8%</td>\n",
       "    </tr>\n",
       "  </tbody>\n",
       "</table>\n",
       "</div>"
      ],
      "text/plain": [
       "                       count  sum mean ratio\n",
       "                        debt debt debt      \n",
       "family_status                               \n",
       "в разводе               1195   85 0.07  7.1%\n",
       "вдовец / вдова           959   63 0.07  6.6%\n",
       "гражданский брак        4150  388 0.09  9.3%\n",
       "женат / замужем        12339  931 0.08  7.5%\n",
       "не женат / не замужем   2810  274 0.10  9.8%"
      ]
     },
     "execution_count": 69,
     "metadata": {},
     "output_type": "execute_result"
    }
   ],
   "source": [
    "# Используем метод pivot_table(), результат сохраним в переменной family_status_pivot.\n",
    "family_status_pivot = df.pivot_table(index = 'family_status', \n",
    "                                     values = 'debt', \n",
    "                                     aggfunc = ['count','sum','mean'])\n",
    "\n",
    "family_status_pivot['ratio'] = (family_status_pivot['sum'] / family_status_pivot['count'] * 100)\\\n",
    "                                                                            .round(1).astype('str') +'%'\n",
    "family_status_pivot"
   ]
  },
  {
   "cell_type": "markdown",
   "metadata": {},
   "source": [
    "Самые высокие показатели у клиентов которые состоят в гражданском браке и у тех кто вовсе в нём не состоит, они хуже всех возвращают кредиты в срок. "
   ]
  },
  {
   "cell_type": "markdown",
   "metadata": {},
   "source": [
    "### 3.3. Есть ли зависимость между уровнем дохода и возвратом кредита в срок?"
   ]
  },
  {
   "cell_type": "code",
   "execution_count": 70,
   "metadata": {},
   "outputs": [
    {
     "data": {
      "text/html": [
       "<div>\n",
       "<style scoped>\n",
       "    .dataframe tbody tr th:only-of-type {\n",
       "        vertical-align: middle;\n",
       "    }\n",
       "\n",
       "    .dataframe tbody tr th {\n",
       "        vertical-align: top;\n",
       "    }\n",
       "\n",
       "    .dataframe thead tr th {\n",
       "        text-align: left;\n",
       "    }\n",
       "\n",
       "    .dataframe thead tr:last-of-type th {\n",
       "        text-align: right;\n",
       "    }\n",
       "</style>\n",
       "<table border=\"1\" class=\"dataframe\">\n",
       "  <thead>\n",
       "    <tr>\n",
       "      <th></th>\n",
       "      <th>count</th>\n",
       "      <th>sum</th>\n",
       "      <th>mean</th>\n",
       "      <th>ratio</th>\n",
       "    </tr>\n",
       "    <tr>\n",
       "      <th></th>\n",
       "      <th>debt</th>\n",
       "      <th>debt</th>\n",
       "      <th>debt</th>\n",
       "      <th></th>\n",
       "    </tr>\n",
       "    <tr>\n",
       "      <th>level_of_income</th>\n",
       "      <th></th>\n",
       "      <th></th>\n",
       "      <th></th>\n",
       "      <th></th>\n",
       "    </tr>\n",
       "  </thead>\n",
       "  <tbody>\n",
       "    <tr>\n",
       "      <th>высокий уровень дохода</th>\n",
       "      <td>6923</td>\n",
       "      <td>508</td>\n",
       "      <td>0.07</td>\n",
       "      <td>7.3%</td>\n",
       "    </tr>\n",
       "    <tr>\n",
       "      <th>низкий уровень дохода</th>\n",
       "      <td>2276</td>\n",
       "      <td>174</td>\n",
       "      <td>0.08</td>\n",
       "      <td>7.6%</td>\n",
       "    </tr>\n",
       "    <tr>\n",
       "      <th>средний уровень дохода</th>\n",
       "      <td>12254</td>\n",
       "      <td>1059</td>\n",
       "      <td>0.09</td>\n",
       "      <td>8.6%</td>\n",
       "    </tr>\n",
       "  </tbody>\n",
       "</table>\n",
       "</div>"
      ],
      "text/plain": [
       "                        count   sum mean ratio\n",
       "                         debt  debt debt      \n",
       "level_of_income                               \n",
       "высокий уровень дохода   6923   508 0.07  7.3%\n",
       "низкий уровень дохода    2276   174 0.08  7.6%\n",
       "средний уровень дохода  12254  1059 0.09  8.6%"
      ]
     },
     "execution_count": 70,
     "metadata": {},
     "output_type": "execute_result"
    }
   ],
   "source": [
    "# Используем метод pivot_table(), результат сохраним в переменной monthly_income_pivot.\n",
    "monthly_income_pivot = df.pivot_table(index = 'level_of_income', \n",
    "                                      values = 'debt', \n",
    "                                      aggfunc = ['count','sum','mean'])\n",
    "\n",
    "monthly_income_pivot['ratio'] = (monthly_income_pivot['sum'] / monthly_income_pivot['count'] * 100)\\\n",
    "                                                                                            .round(1).astype('str') +'%'\n",
    "monthly_income_pivot"
   ]
  },
  {
   "cell_type": "markdown",
   "metadata": {},
   "source": [
    "Самый высокий показатель у клиентов со средним уровень дохода, они хуже всех возвращают кредиты в срок."
   ]
  },
  {
   "cell_type": "markdown",
   "metadata": {},
   "source": [
    "### 3.4. Как разные цели кредита влияют на его возврат в срок?"
   ]
  },
  {
   "cell_type": "code",
   "execution_count": 71,
   "metadata": {},
   "outputs": [
    {
     "data": {
      "text/html": [
       "<div>\n",
       "<style scoped>\n",
       "    .dataframe tbody tr th:only-of-type {\n",
       "        vertical-align: middle;\n",
       "    }\n",
       "\n",
       "    .dataframe tbody tr th {\n",
       "        vertical-align: top;\n",
       "    }\n",
       "\n",
       "    .dataframe thead tr th {\n",
       "        text-align: left;\n",
       "    }\n",
       "\n",
       "    .dataframe thead tr:last-of-type th {\n",
       "        text-align: right;\n",
       "    }\n",
       "</style>\n",
       "<table border=\"1\" class=\"dataframe\">\n",
       "  <thead>\n",
       "    <tr>\n",
       "      <th></th>\n",
       "      <th>count</th>\n",
       "      <th>sum</th>\n",
       "      <th>mean</th>\n",
       "      <th>ratio</th>\n",
       "    </tr>\n",
       "    <tr>\n",
       "      <th></th>\n",
       "      <th>debt</th>\n",
       "      <th>debt</th>\n",
       "      <th>debt</th>\n",
       "      <th></th>\n",
       "    </tr>\n",
       "    <tr>\n",
       "      <th>credit_purpose_category</th>\n",
       "      <th></th>\n",
       "      <th></th>\n",
       "      <th></th>\n",
       "      <th></th>\n",
       "    </tr>\n",
       "  </thead>\n",
       "  <tbody>\n",
       "    <tr>\n",
       "      <th>автомобиль</th>\n",
       "      <td>4306</td>\n",
       "      <td>403</td>\n",
       "      <td>0.09</td>\n",
       "      <td>9.4%</td>\n",
       "    </tr>\n",
       "    <tr>\n",
       "      <th>недвижимость</th>\n",
       "      <td>10810</td>\n",
       "      <td>782</td>\n",
       "      <td>0.07</td>\n",
       "      <td>7.2%</td>\n",
       "    </tr>\n",
       "    <tr>\n",
       "      <th>образование</th>\n",
       "      <td>4013</td>\n",
       "      <td>370</td>\n",
       "      <td>0.09</td>\n",
       "      <td>9.2%</td>\n",
       "    </tr>\n",
       "    <tr>\n",
       "      <th>свадьба</th>\n",
       "      <td>2324</td>\n",
       "      <td>186</td>\n",
       "      <td>0.08</td>\n",
       "      <td>8.0%</td>\n",
       "    </tr>\n",
       "  </tbody>\n",
       "</table>\n",
       "</div>"
      ],
      "text/plain": [
       "                         count  sum mean ratio\n",
       "                          debt debt debt      \n",
       "credit_purpose_category                       \n",
       "автомобиль                4306  403 0.09  9.4%\n",
       "недвижимость             10810  782 0.07  7.2%\n",
       "образование               4013  370 0.09  9.2%\n",
       "свадьба                   2324  186 0.08  8.0%"
      ]
     },
     "execution_count": 71,
     "metadata": {},
     "output_type": "execute_result"
    }
   ],
   "source": [
    "# Используем метод pivot_table(), результат сохраним в переменной credit_purpose_pivot.\n",
    "credit_purpose_pivot = df.pivot_table(index = 'credit_purpose_category', \n",
    "                                      values = 'debt', \n",
    "                                      aggfunc = ['count','sum','mean'])\n",
    "\n",
    "credit_purpose_pivot['ratio'] = (credit_purpose_pivot['sum'] /credit_purpose_pivot['count'] * 100)\\\n",
    "                                                                                            .round(1).astype('str') +'%'\n",
    "credit_purpose_pivot"
   ]
  },
  {
   "cell_type": "markdown",
   "metadata": {},
   "source": [
    "По полученным результатам видно, что клиенты с целями кредита недвижимость и свадьба лучше возвращают кредит в срок. "
   ]
  },
  {
   "cell_type": "markdown",
   "metadata": {},
   "source": [
    "## Шаг 4. Общий вывод исследования"
   ]
  },
  {
   "cell_type": "markdown",
   "metadata": {},
   "source": [
    "Подводя итоги, мы видим, что существует зависимость между наличием детей, семейного положения, уровня дохода и целей кредита, с возвратом кредита в срок.\n",
    "\n",
    "**Есть ли зависимость между наличием детей и возвратом кредита в срок?**\n",
    "Банку важна платежеспособность клиента. Наличие детей налагает на клиента повышенные финансовые обязательства и, по факту, снижает его платежеспособность. Самый низкий уровень задолженности у бездетных, он составляет 7,5%. И самый высокий уровень задолженности у клиентов с 4 детьми, 9,7%.\n",
    "\n",
    "**Есть ли зависимость между семейным положением и возвратом кредита в срок?**\n",
    "Видим, что больший шанс оформить и получить кредит будет у того потенциального заемщика, который состоит в браке или вдовец. Самый низкий уровень задолженности у вдовцов / вдов, он составляет 6,5%. У клиентов, состоящих в браке, 7,5%.  И самый высокий уровень задолженности у клиентов, которые состоят в гражданском браке и у тех, кто вовсе в нём не состоит, 9,7%, они хуже всех возвращают кредиты в срок.\n",
    "\n",
    "**Есть ли зависимость между уровнем дохода и возвратом кредита в срок?**\n",
    "По полученным результатам видно, что клиенты с высоким уровнем доходов лучше всех справляются с выплатами по кредиту, у них уровень задолженности составляет 7%. Уровень задолженности у клиентов со средним уровнем дохода 8,6%, они хуже всех возвращают кредиты в срок.\n",
    "\n",
    "**Как разные цели кредита влияют на его возврат в срок?**\n",
    "Клиенты с целями кредита недвижимость и свадьба лучше возвращают кредит в срок, их уровень задорности 7%.\n",
    "Хуже возвращают кредит в срок, клиенты цели кредита которых автомобиль и образование, у них уровень задолженности 9%. \n",
    "\n",
    "**Рекомендация:**\n",
    " - Исходя из результатов исследования, вероятнее, кредит выдадут человеку женатому, но без детей, с высоким уровнем дохода, цели которого недвижимость.\n",
    " - Особое внимание следует уделить клиентам не женатым или состоящих в гражданском браке, с детьми, со средним уровнем дохода, с целями кредита автомобиль, у них самые плохие показатели. У таких клиентов риски по невозврату кредитов выше."
   ]
  }
 ],
 "metadata": {
  "kernelspec": {
   "display_name": "Python 3",
   "language": "python",
   "name": "python3"
  },
  "language_info": {
   "codemirror_mode": {
    "name": "ipython",
    "version": 3
   },
   "file_extension": ".py",
   "mimetype": "text/x-python",
   "name": "python",
   "nbconvert_exporter": "python",
   "pygments_lexer": "ipython3",
   "version": "3.8.5"
  }
 },
 "nbformat": 4,
 "nbformat_minor": 2
}
